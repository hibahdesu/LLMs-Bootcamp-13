{
 "cells": [
  {
   "cell_type": "markdown",
   "metadata": {
    "id": "0g2RQRSltgja"
   },
   "source": [
    "# Full DL Solution\n",
    "---\n",
    "### **Case Study:** Stroke Prediction\n",
    "\n",
    "**Objective:** The goal of this project is to walk you through a case study where you can apply the deep learning concepts that you learned about during the week. By the end of this project, you would have developed a solution that predicts if a person will have a stroke or not.\n"
   ]
  },
  {
   "cell_type": "markdown",
   "metadata": {
    "id": "SSCD88NxJjFo"
   },
   "source": [
    "**Dataset Explanation:** We will be using the stroke dataset. Its features are:\n",
    "\n",
    "\n",
    "* **id:** unique identifier\n",
    "* **gender:** \"Male\", \"Female\" or \"Other\"\n",
    "* **age:** age of the patient\n",
    "* **hypertension:** 0 if the patient doesn't have hypertension, 1 if the patient has hypertension\n",
    "* **heart_disease:** 0 if the patient doesn't have any heart diseases, 1 if the patient has a heart disease\n",
    "* **ever_married:** \"No\" or \"Yes\"\n",
    "* **work_type:** \"children\", \"Govt_jov\", \"Never_worked\", \"Private\" or \"Self-employed\"\n",
    "* **Residence_type:** \"Rural\" or \"Urban\"\n",
    "* **avg_glucose_level:** average glucose level in blood\n",
    "* **bmi:** body mass index\n",
    "* **smoking_status:** \"formerly smoked\", \"never smoked\", \"smokes\" or \"Unknown\"*\n",
    "* **stroke:** 1 if the patient had a stroke or 0 if not"
   ]
  },
  {
   "cell_type": "markdown",
   "metadata": {
    "id": "gBvX5nCYt8cT"
   },
   "source": [
    "# Importing Libraries"
   ]
  },
  {
   "cell_type": "markdown",
   "metadata": {
    "id": "JaPfsfvXK2_0"
   },
   "source": [
    "We start by importing the libraries"
   ]
  },
  {
   "cell_type": "code",
   "execution_count": 1,
   "metadata": {
    "id": "oK92M0m-ezbE"
   },
   "outputs": [],
   "source": [
    "import warnings\n",
    "warnings.filterwarnings('ignore')"
   ]
  },
  {
   "cell_type": "code",
   "execution_count": 2,
   "metadata": {
    "id": "mMQuUG7OtfrG"
   },
   "outputs": [],
   "source": [
    "import numpy as np\n",
    "import pandas as pd\n",
    "import matplotlib.pyplot as plt"
   ]
  },
  {
   "cell_type": "markdown",
   "metadata": {
    "id": "0-RxAH5auFFy"
   },
   "source": [
    "# Loading the Dataset"
   ]
  },
  {
   "cell_type": "markdown",
   "metadata": {
    "id": "z_jj2t6zK6zy"
   },
   "source": [
    "We load the dataset from a csv file, and see its first rows"
   ]
  },
  {
   "cell_type": "code",
   "execution_count": 3,
   "metadata": {
    "id": "UQVo1CAJt7s8"
   },
   "outputs": [
    {
     "data": {
      "text/html": [
       "<div>\n",
       "<style scoped>\n",
       "    .dataframe tbody tr th:only-of-type {\n",
       "        vertical-align: middle;\n",
       "    }\n",
       "\n",
       "    .dataframe tbody tr th {\n",
       "        vertical-align: top;\n",
       "    }\n",
       "\n",
       "    .dataframe thead th {\n",
       "        text-align: right;\n",
       "    }\n",
       "</style>\n",
       "<table border=\"1\" class=\"dataframe\">\n",
       "  <thead>\n",
       "    <tr style=\"text-align: right;\">\n",
       "      <th></th>\n",
       "      <th>id</th>\n",
       "      <th>gender</th>\n",
       "      <th>age</th>\n",
       "      <th>hypertension</th>\n",
       "      <th>heart_disease</th>\n",
       "      <th>ever_married</th>\n",
       "      <th>work_type</th>\n",
       "      <th>Residence_type</th>\n",
       "      <th>avg_glucose_level</th>\n",
       "      <th>bmi</th>\n",
       "      <th>smoking_status</th>\n",
       "      <th>stroke</th>\n",
       "    </tr>\n",
       "  </thead>\n",
       "  <tbody>\n",
       "    <tr>\n",
       "      <th>0</th>\n",
       "      <td>9046</td>\n",
       "      <td>Male</td>\n",
       "      <td>67.0</td>\n",
       "      <td>0</td>\n",
       "      <td>1</td>\n",
       "      <td>Yes</td>\n",
       "      <td>Private</td>\n",
       "      <td>Urban</td>\n",
       "      <td>228.69</td>\n",
       "      <td>36.6</td>\n",
       "      <td>formerly smoked</td>\n",
       "      <td>1</td>\n",
       "    </tr>\n",
       "    <tr>\n",
       "      <th>1</th>\n",
       "      <td>51676</td>\n",
       "      <td>Female</td>\n",
       "      <td>61.0</td>\n",
       "      <td>0</td>\n",
       "      <td>0</td>\n",
       "      <td>Yes</td>\n",
       "      <td>Self-employed</td>\n",
       "      <td>Rural</td>\n",
       "      <td>202.21</td>\n",
       "      <td>NaN</td>\n",
       "      <td>never smoked</td>\n",
       "      <td>1</td>\n",
       "    </tr>\n",
       "    <tr>\n",
       "      <th>2</th>\n",
       "      <td>31112</td>\n",
       "      <td>Male</td>\n",
       "      <td>80.0</td>\n",
       "      <td>0</td>\n",
       "      <td>1</td>\n",
       "      <td>Yes</td>\n",
       "      <td>Private</td>\n",
       "      <td>Rural</td>\n",
       "      <td>105.92</td>\n",
       "      <td>32.5</td>\n",
       "      <td>never smoked</td>\n",
       "      <td>1</td>\n",
       "    </tr>\n",
       "    <tr>\n",
       "      <th>3</th>\n",
       "      <td>60182</td>\n",
       "      <td>Female</td>\n",
       "      <td>49.0</td>\n",
       "      <td>0</td>\n",
       "      <td>0</td>\n",
       "      <td>Yes</td>\n",
       "      <td>Private</td>\n",
       "      <td>Urban</td>\n",
       "      <td>171.23</td>\n",
       "      <td>34.4</td>\n",
       "      <td>smokes</td>\n",
       "      <td>1</td>\n",
       "    </tr>\n",
       "    <tr>\n",
       "      <th>4</th>\n",
       "      <td>1665</td>\n",
       "      <td>Female</td>\n",
       "      <td>79.0</td>\n",
       "      <td>1</td>\n",
       "      <td>0</td>\n",
       "      <td>Yes</td>\n",
       "      <td>Self-employed</td>\n",
       "      <td>Rural</td>\n",
       "      <td>174.12</td>\n",
       "      <td>24.0</td>\n",
       "      <td>never smoked</td>\n",
       "      <td>1</td>\n",
       "    </tr>\n",
       "  </tbody>\n",
       "</table>\n",
       "</div>"
      ],
      "text/plain": [
       "      id  gender   age  hypertension  heart_disease ever_married  \\\n",
       "0   9046    Male  67.0             0              1          Yes   \n",
       "1  51676  Female  61.0             0              0          Yes   \n",
       "2  31112    Male  80.0             0              1          Yes   \n",
       "3  60182  Female  49.0             0              0          Yes   \n",
       "4   1665  Female  79.0             1              0          Yes   \n",
       "\n",
       "       work_type Residence_type  avg_glucose_level   bmi   smoking_status  \\\n",
       "0        Private          Urban             228.69  36.6  formerly smoked   \n",
       "1  Self-employed          Rural             202.21   NaN     never smoked   \n",
       "2        Private          Rural             105.92  32.5     never smoked   \n",
       "3        Private          Urban             171.23  34.4           smokes   \n",
       "4  Self-employed          Rural             174.12  24.0     never smoked   \n",
       "\n",
       "   stroke  \n",
       "0       1  \n",
       "1       1  \n",
       "2       1  \n",
       "3       1  \n",
       "4       1  "
      ]
     },
     "execution_count": 3,
     "metadata": {},
     "output_type": "execute_result"
    }
   ],
   "source": [
    "path = 'healthcare-dataset-stroke-data.csv'\n",
    "data = pd.read_csv(path)\n",
    "data.head()"
   ]
  },
  {
   "cell_type": "markdown",
   "metadata": {
    "id": "r6gAyBGtubI7"
   },
   "source": [
    "# Exploratory Data Analysis"
   ]
  },
  {
   "cell_type": "markdown",
   "metadata": {
    "id": "XZ_93CvuLF3j"
   },
   "source": [
    "Now we start the exploratory data analysis."
   ]
  },
  {
   "cell_type": "markdown",
   "metadata": {
    "id": "2925yVCdud0a"
   },
   "source": [
    "### Shape of the data"
   ]
  },
  {
   "cell_type": "markdown",
   "metadata": {
    "id": "yZ0hWvVALJy4"
   },
   "source": [
    "First thing we need to know the shape of our data\n",
    "\n",
    "**Question 1:** How many examples and features do we have?"
   ]
  },
  {
   "cell_type": "code",
   "execution_count": 4,
   "metadata": {},
   "outputs": [
    {
     "data": {
      "text/plain": [
       "(5110, 12)"
      ]
     },
     "execution_count": 4,
     "metadata": {},
     "output_type": "execute_result"
    }
   ],
   "source": [
    "#Seeing the shape of the dataset we have\n",
    "data.shape\n",
    "#As we can see, we have about 5110 rows and 12 columns"
   ]
  },
  {
   "cell_type": "code",
   "execution_count": 5,
   "metadata": {
    "id": "8pvWR3PKuQEy"
   },
   "outputs": [
    {
     "name": "stdout",
     "output_type": "stream",
     "text": [
      "5110 12\n"
     ]
    }
   ],
   "source": [
    "#Creating a variable for the row numbers \n",
    "nrow = data.shape[0]\n",
    "\n",
    "#Creating a variable for the column numbers \n",
    "ncol = data.shape[1]\n",
    "\n",
    "#Printing the numbers of rows and columns\n",
    "print(nrow, ncol)\n",
    "#As we can see, we have about 5110 rows and 12 columns"
   ]
  },
  {
   "cell_type": "markdown",
   "metadata": {
    "id": "yUy4oI5xukRr"
   },
   "source": [
    "### Types of different Columns"
   ]
  },
  {
   "cell_type": "markdown",
   "metadata": {
    "id": "G1q10ievLTTs"
   },
   "source": [
    "**Question 2:** Check the type of each feature."
   ]
  },
  {
   "cell_type": "code",
   "execution_count": 6,
   "metadata": {
    "id": "_8snoohouhUP"
   },
   "outputs": [
    {
     "name": "stdout",
     "output_type": "stream",
     "text": [
      "<class 'pandas.core.frame.DataFrame'>\n",
      "RangeIndex: 5110 entries, 0 to 5109\n",
      "Data columns (total 12 columns):\n",
      " #   Column             Non-Null Count  Dtype  \n",
      "---  ------             --------------  -----  \n",
      " 0   id                 5110 non-null   int64  \n",
      " 1   gender             5110 non-null   object \n",
      " 2   age                5110 non-null   float64\n",
      " 3   hypertension       5110 non-null   int64  \n",
      " 4   heart_disease      5110 non-null   int64  \n",
      " 5   ever_married       5110 non-null   object \n",
      " 6   work_type          5110 non-null   object \n",
      " 7   Residence_type     5110 non-null   object \n",
      " 8   avg_glucose_level  5110 non-null   float64\n",
      " 9   bmi                4909 non-null   float64\n",
      " 10  smoking_status     5110 non-null   object \n",
      " 11  stroke             5110 non-null   int64  \n",
      "dtypes: float64(3), int64(4), object(5)\n",
      "memory usage: 479.2+ KB\n"
     ]
    }
   ],
   "source": [
    "#Seeing the info of the dataset, we can do so by seeing the info of the dataset\n",
    "data.info()\n",
    "#As we can see, we have float64(3), int64(4), object(5)\n",
    "#As we can see, we have object values in our dataset, so we have to convert it to be able to use it in the model buiding"
   ]
  },
  {
   "cell_type": "markdown",
   "metadata": {
    "id": "nkrEh6RYygms"
   },
   "source": [
    "### Dealing with categorical variables"
   ]
  },
  {
   "cell_type": "markdown",
   "metadata": {
    "id": "v_kBYl7ItLGt"
   },
   "source": [
    "**Question 3:** Use the .value_counts() functions to walk through the categorical variables that we have to see the categories and the counts of each of them."
   ]
  },
  {
   "cell_type": "code",
   "execution_count": 7,
   "metadata": {},
   "outputs": [
    {
     "data": {
      "text/plain": [
       "Index(['id', 'gender', 'age', 'hypertension', 'heart_disease', 'ever_married',\n",
       "       'work_type', 'Residence_type', 'avg_glucose_level', 'bmi',\n",
       "       'smoking_status', 'stroke'],\n",
       "      dtype='object')"
      ]
     },
     "execution_count": 7,
     "metadata": {},
     "output_type": "execute_result"
    }
   ],
   "source": [
    "data.columns"
   ]
  },
  {
   "cell_type": "code",
   "execution_count": 8,
   "metadata": {
    "id": "DlSfSQ35ykgc"
   },
   "outputs": [
    {
     "data": {
      "text/plain": [
       "smoking_status\n",
       "never smoked       1892\n",
       "Unknown            1544\n",
       "formerly smoked     885\n",
       "smokes              789\n",
       "Name: count, dtype: int64"
      ]
     },
     "execution_count": 8,
     "metadata": {},
     "output_type": "execute_result"
    }
   ],
   "source": [
    "#Seeing the value counts of smoking_status column in our dataset\n",
    "smoking_types = data['smoking_status'].value_counts()\n",
    "smoking_types\n",
    "#As we can see, we have 4 types (never smoked, Unknown,formerly smoked, smokes)"
   ]
  },
  {
   "cell_type": "code",
   "execution_count": 9,
   "metadata": {
    "id": "Yg0xlLNUy7AF"
   },
   "outputs": [
    {
     "data": {
      "text/plain": [
       "Residence_type\n",
       "Urban    2596\n",
       "Rural    2514\n",
       "Name: count, dtype: int64"
      ]
     },
     "execution_count": 9,
     "metadata": {},
     "output_type": "execute_result"
    }
   ],
   "source": [
    "#Seeing the value counts of Residence_type in our dataset\n",
    "residence_types = data.Residence_type.value_counts()\n",
    "residence_types\n",
    "#As we can see, we have two types in Residence_type (Urban and Rural)"
   ]
  },
  {
   "cell_type": "code",
   "execution_count": 10,
   "metadata": {
    "id": "T72r_mkrzF9V"
   },
   "outputs": [
    {
     "data": {
      "text/plain": [
       "work_type\n",
       "Private          2925\n",
       "Self-employed     819\n",
       "children          687\n",
       "Govt_job          657\n",
       "Never_worked       22\n",
       "Name: count, dtype: int64"
      ]
     },
     "execution_count": 10,
     "metadata": {},
     "output_type": "execute_result"
    }
   ],
   "source": [
    "#See the value counts of work_type in our dataset\n",
    "work_types = data['work_type'].value_counts()\n",
    "work_types\n",
    "#As we can see, we have 5 types in work_type (Private, Self-employed,children, Govt_job,Never_worked)"
   ]
  },
  {
   "cell_type": "code",
   "execution_count": 11,
   "metadata": {
    "id": "Z0kpR57LzQE9"
   },
   "outputs": [
    {
     "data": {
      "text/plain": [
       "ever_married\n",
       "Yes    3353\n",
       "No     1757\n",
       "Name: count, dtype: int64"
      ]
     },
     "execution_count": 11,
     "metadata": {},
     "output_type": "execute_result"
    }
   ],
   "source": [
    "#Seeing the value counts of 'ever_married' in our dataset\n",
    "married_types = data.ever_married.value_counts()\n",
    "married_types\n",
    "#As we can see, we have two types in ever_married (Yes and No)"
   ]
  },
  {
   "cell_type": "code",
   "execution_count": 12,
   "metadata": {
    "id": "fQIoAs8y3igG"
   },
   "outputs": [
    {
     "data": {
      "text/plain": [
       "hypertension\n",
       "0    4612\n",
       "1     498\n",
       "Name: count, dtype: int64"
      ]
     },
     "execution_count": 12,
     "metadata": {},
     "output_type": "execute_result"
    }
   ],
   "source": [
    "#Seeing the value counts of hypertension\n",
    "hypertension = data['hypertension'].value_counts()\n",
    "hypertension\n",
    "#As we can see, we have two types (0 and 1)"
   ]
  },
  {
   "cell_type": "code",
   "execution_count": 13,
   "metadata": {
    "id": "xEhNH46j3p3Y"
   },
   "outputs": [
    {
     "data": {
      "text/plain": [
       "heart_disease\n",
       "0    4834\n",
       "1     276\n",
       "Name: count, dtype: int64"
      ]
     },
     "execution_count": 13,
     "metadata": {},
     "output_type": "execute_result"
    }
   ],
   "source": [
    "#Seeing the value counts of heart_disease in our dataset\n",
    "heart_disease = data.heart_disease.value_counts()\n",
    "heart_disease\n",
    "#As we can see, we have two types in heart_disease (0 and 1)"
   ]
  },
  {
   "cell_type": "code",
   "execution_count": 14,
   "metadata": {
    "id": "8cI7uJvA3Njv"
   },
   "outputs": [
    {
     "data": {
      "text/plain": [
       "stroke\n",
       "0    4861\n",
       "1     249\n",
       "Name: count, dtype: int64"
      ]
     },
     "execution_count": 14,
     "metadata": {},
     "output_type": "execute_result"
    }
   ],
   "source": [
    "#Seeing the value counts of stroke in our dataset\n",
    "stroke = data['stroke'].value_counts()\n",
    "stroke\n",
    "#As we can see, we have two types in stroke (0 and 1)"
   ]
  },
  {
   "cell_type": "markdown",
   "metadata": {
    "id": "_jFIiKPvllld"
   },
   "source": [
    "# Preprocessing"
   ]
  },
  {
   "cell_type": "markdown",
   "metadata": {},
   "source": [
    "### Before I go further, I have to check for null data and duplicated data in our dataset"
   ]
  },
  {
   "cell_type": "markdown",
   "metadata": {},
   "source": [
    "#### Checking for null data"
   ]
  },
  {
   "cell_type": "code",
   "execution_count": 15,
   "metadata": {
    "scrolled": true
   },
   "outputs": [
    {
     "data": {
      "text/plain": [
       "id                     0\n",
       "gender                 0\n",
       "age                    0\n",
       "hypertension           0\n",
       "heart_disease          0\n",
       "ever_married           0\n",
       "work_type              0\n",
       "Residence_type         0\n",
       "avg_glucose_level      0\n",
       "bmi                  201\n",
       "smoking_status         0\n",
       "stroke                 0\n",
       "dtype: int64"
      ]
     },
     "execution_count": 15,
     "metadata": {},
     "output_type": "execute_result"
    }
   ],
   "source": [
    "#Checking for null data\n",
    "data.isna().sum()\n",
    "#As we can see, we have null data in bmi column about (201)"
   ]
  },
  {
   "cell_type": "markdown",
   "metadata": {},
   "source": [
    "#### Checking for duplicated data"
   ]
  },
  {
   "cell_type": "code",
   "execution_count": 16,
   "metadata": {},
   "outputs": [
    {
     "data": {
      "text/plain": [
       "0"
      ]
     },
     "execution_count": 16,
     "metadata": {},
     "output_type": "execute_result"
    }
   ],
   "source": [
    "#Let's check for the duplicated data\n",
    "data.duplicated().sum()\n",
    "#As we can see, we do not have duplicated data"
   ]
  },
  {
   "cell_type": "markdown",
   "metadata": {
    "id": "JsQQj-wVlkjS"
   },
   "source": [
    "### Dealing with Nulls"
   ]
  },
  {
   "cell_type": "markdown",
   "metadata": {
    "id": "wdlRc672lgI4"
   },
   "source": [
    "**Question 4:** The bmi column contains nulls. Fill it with the appropriate measure."
   ]
  },
  {
   "cell_type": "code",
   "execution_count": 17,
   "metadata": {
    "id": "7UDrnGK6lYiE"
   },
   "outputs": [],
   "source": [
    "#Fillling the null data in bmi, I will fill the null data with the mean as it is one of the popular methods that deals with null data\n",
    "data['bmi'].fillna(value = data['bmi'].mean(), inplace=True)"
   ]
  },
  {
   "cell_type": "code",
   "execution_count": 18,
   "metadata": {},
   "outputs": [
    {
     "data": {
      "text/plain": [
       "id                   0\n",
       "gender               0\n",
       "age                  0\n",
       "hypertension         0\n",
       "heart_disease        0\n",
       "ever_married         0\n",
       "work_type            0\n",
       "Residence_type       0\n",
       "avg_glucose_level    0\n",
       "bmi                  0\n",
       "smoking_status       0\n",
       "stroke               0\n",
       "dtype: int64"
      ]
     },
     "execution_count": 18,
     "metadata": {},
     "output_type": "execute_result"
    }
   ],
   "source": [
    "#Let's check for the null data after I have filled with the mean\n",
    "data.isnull().sum()\n",
    "#As we can see, we do not have null data any longer. We can more forward."
   ]
  },
  {
   "cell_type": "markdown",
   "metadata": {
    "id": "21da4C_Bzd-u"
   },
   "source": [
    "#### Encoding Categorical Features"
   ]
  },
  {
   "cell_type": "markdown",
   "metadata": {
    "id": "UaNk4gWCLqe4"
   },
   "source": [
    "**Question 5:** Here you have to encode those categorical variables to be able to use them to train your DL model."
   ]
  },
  {
   "cell_type": "code",
   "execution_count": 19,
   "metadata": {
    "scrolled": true
   },
   "outputs": [
    {
     "data": {
      "text/plain": [
       "0       formerly smoked\n",
       "1          never smoked\n",
       "2          never smoked\n",
       "3                smokes\n",
       "4          never smoked\n",
       "             ...       \n",
       "5105       never smoked\n",
       "5106       never smoked\n",
       "5107       never smoked\n",
       "5108    formerly smoked\n",
       "5109            Unknown\n",
       "Name: smoking_status, Length: 5110, dtype: object"
      ]
     },
     "execution_count": 19,
     "metadata": {},
     "output_type": "execute_result"
    }
   ],
   "source": [
    "#Let's first see, data['smoking_status'] before using the LabelEncoder() method\n",
    "data['smoking_status']"
   ]
  },
  {
   "cell_type": "code",
   "execution_count": 20,
   "metadata": {},
   "outputs": [
    {
     "data": {
      "text/plain": [
       "0       Urban\n",
       "1       Rural\n",
       "2       Rural\n",
       "3       Urban\n",
       "4       Rural\n",
       "        ...  \n",
       "5105    Urban\n",
       "5106    Urban\n",
       "5107    Rural\n",
       "5108    Rural\n",
       "5109    Urban\n",
       "Name: Residence_type, Length: 5110, dtype: object"
      ]
     },
     "execution_count": 20,
     "metadata": {},
     "output_type": "execute_result"
    }
   ],
   "source": [
    "#Let's first see, data['Residence_type'] before using the LabelEncoder() method\n",
    "data['Residence_type']"
   ]
  },
  {
   "cell_type": "code",
   "execution_count": 21,
   "metadata": {},
   "outputs": [
    {
     "data": {
      "text/plain": [
       "0             Private\n",
       "1       Self-employed\n",
       "2             Private\n",
       "3             Private\n",
       "4       Self-employed\n",
       "            ...      \n",
       "5105          Private\n",
       "5106    Self-employed\n",
       "5107    Self-employed\n",
       "5108          Private\n",
       "5109         Govt_job\n",
       "Name: work_type, Length: 5110, dtype: object"
      ]
     },
     "execution_count": 21,
     "metadata": {},
     "output_type": "execute_result"
    }
   ],
   "source": [
    "#Let's first see, data['work_type'] before using the LabelEncoder() method\n",
    "data['work_type']"
   ]
  },
  {
   "cell_type": "code",
   "execution_count": 22,
   "metadata": {
    "scrolled": false
   },
   "outputs": [
    {
     "data": {
      "text/plain": [
       "0       Yes\n",
       "1       Yes\n",
       "2       Yes\n",
       "3       Yes\n",
       "4       Yes\n",
       "       ... \n",
       "5105    Yes\n",
       "5106    Yes\n",
       "5107    Yes\n",
       "5108    Yes\n",
       "5109    Yes\n",
       "Name: ever_married, Length: 5110, dtype: object"
      ]
     },
     "execution_count": 22,
     "metadata": {},
     "output_type": "execute_result"
    }
   ],
   "source": [
    "#Let's first see, data['ever_married'] before using the LabelEncoder() method\n",
    "data['ever_married']"
   ]
  },
  {
   "cell_type": "code",
   "execution_count": 23,
   "metadata": {},
   "outputs": [
    {
     "data": {
      "text/plain": [
       "0         Male\n",
       "1       Female\n",
       "2         Male\n",
       "3       Female\n",
       "4       Female\n",
       "         ...  \n",
       "5105    Female\n",
       "5106    Female\n",
       "5107    Female\n",
       "5108      Male\n",
       "5109    Female\n",
       "Name: gender, Length: 5110, dtype: object"
      ]
     },
     "execution_count": 23,
     "metadata": {},
     "output_type": "execute_result"
    }
   ],
   "source": [
    "#Let's first see, data['gender']  before using the LabelEncoder() method\n",
    "data['gender'] "
   ]
  },
  {
   "cell_type": "code",
   "execution_count": 24,
   "metadata": {
    "id": "6nJtOvxdzi_G"
   },
   "outputs": [],
   "source": [
    "#As we have seen in our data types, we have object values, so we have to encode them, or change their category type to be able to work with it.\n",
    "\n",
    "#Let's import the library first which is from sklearn\n",
    "from sklearn import preprocessing\n",
    "\n",
    "#Then, create the encoder from LabelEncoder method.\n",
    "encoder = preprocessing.LabelEncoder()\n",
    "#Then, we can fit_transform each column with the encoder we have just built\n",
    "data['smoking_status'] = encoder.fit_transform(data['smoking_status'])\n",
    "data['Residence_type'] = encoder.fit_transform(data['Residence_type'])\n",
    "data['work_type'] = encoder.fit_transform(data['work_type'])\n",
    "data['ever_married'] = encoder.fit_transform(data['ever_married'])\n",
    "data['gender'] = encoder.fit_transform(data['gender'] )"
   ]
  },
  {
   "cell_type": "code",
   "execution_count": 25,
   "metadata": {
    "scrolled": true
   },
   "outputs": [
    {
     "data": {
      "text/html": [
       "<div>\n",
       "<style scoped>\n",
       "    .dataframe tbody tr th:only-of-type {\n",
       "        vertical-align: middle;\n",
       "    }\n",
       "\n",
       "    .dataframe tbody tr th {\n",
       "        vertical-align: top;\n",
       "    }\n",
       "\n",
       "    .dataframe thead th {\n",
       "        text-align: right;\n",
       "    }\n",
       "</style>\n",
       "<table border=\"1\" class=\"dataframe\">\n",
       "  <thead>\n",
       "    <tr style=\"text-align: right;\">\n",
       "      <th></th>\n",
       "      <th>id</th>\n",
       "      <th>gender</th>\n",
       "      <th>age</th>\n",
       "      <th>hypertension</th>\n",
       "      <th>heart_disease</th>\n",
       "      <th>ever_married</th>\n",
       "      <th>work_type</th>\n",
       "      <th>Residence_type</th>\n",
       "      <th>avg_glucose_level</th>\n",
       "      <th>bmi</th>\n",
       "      <th>smoking_status</th>\n",
       "      <th>stroke</th>\n",
       "    </tr>\n",
       "  </thead>\n",
       "  <tbody>\n",
       "    <tr>\n",
       "      <th>0</th>\n",
       "      <td>9046</td>\n",
       "      <td>1</td>\n",
       "      <td>67.0</td>\n",
       "      <td>0</td>\n",
       "      <td>1</td>\n",
       "      <td>1</td>\n",
       "      <td>2</td>\n",
       "      <td>1</td>\n",
       "      <td>228.69</td>\n",
       "      <td>36.600000</td>\n",
       "      <td>1</td>\n",
       "      <td>1</td>\n",
       "    </tr>\n",
       "    <tr>\n",
       "      <th>1</th>\n",
       "      <td>51676</td>\n",
       "      <td>0</td>\n",
       "      <td>61.0</td>\n",
       "      <td>0</td>\n",
       "      <td>0</td>\n",
       "      <td>1</td>\n",
       "      <td>3</td>\n",
       "      <td>0</td>\n",
       "      <td>202.21</td>\n",
       "      <td>28.893237</td>\n",
       "      <td>2</td>\n",
       "      <td>1</td>\n",
       "    </tr>\n",
       "    <tr>\n",
       "      <th>2</th>\n",
       "      <td>31112</td>\n",
       "      <td>1</td>\n",
       "      <td>80.0</td>\n",
       "      <td>0</td>\n",
       "      <td>1</td>\n",
       "      <td>1</td>\n",
       "      <td>2</td>\n",
       "      <td>0</td>\n",
       "      <td>105.92</td>\n",
       "      <td>32.500000</td>\n",
       "      <td>2</td>\n",
       "      <td>1</td>\n",
       "    </tr>\n",
       "    <tr>\n",
       "      <th>3</th>\n",
       "      <td>60182</td>\n",
       "      <td>0</td>\n",
       "      <td>49.0</td>\n",
       "      <td>0</td>\n",
       "      <td>0</td>\n",
       "      <td>1</td>\n",
       "      <td>2</td>\n",
       "      <td>1</td>\n",
       "      <td>171.23</td>\n",
       "      <td>34.400000</td>\n",
       "      <td>3</td>\n",
       "      <td>1</td>\n",
       "    </tr>\n",
       "    <tr>\n",
       "      <th>4</th>\n",
       "      <td>1665</td>\n",
       "      <td>0</td>\n",
       "      <td>79.0</td>\n",
       "      <td>1</td>\n",
       "      <td>0</td>\n",
       "      <td>1</td>\n",
       "      <td>3</td>\n",
       "      <td>0</td>\n",
       "      <td>174.12</td>\n",
       "      <td>24.000000</td>\n",
       "      <td>2</td>\n",
       "      <td>1</td>\n",
       "    </tr>\n",
       "  </tbody>\n",
       "</table>\n",
       "</div>"
      ],
      "text/plain": [
       "      id  gender   age  hypertension  heart_disease  ever_married  work_type  \\\n",
       "0   9046       1  67.0             0              1             1          2   \n",
       "1  51676       0  61.0             0              0             1          3   \n",
       "2  31112       1  80.0             0              1             1          2   \n",
       "3  60182       0  49.0             0              0             1          2   \n",
       "4   1665       0  79.0             1              0             1          3   \n",
       "\n",
       "   Residence_type  avg_glucose_level        bmi  smoking_status  stroke  \n",
       "0               1             228.69  36.600000               1       1  \n",
       "1               0             202.21  28.893237               2       1  \n",
       "2               0             105.92  32.500000               2       1  \n",
       "3               1             171.23  34.400000               3       1  \n",
       "4               0             174.12  24.000000               2       1  "
      ]
     },
     "execution_count": 25,
     "metadata": {},
     "output_type": "execute_result"
    }
   ],
   "source": [
    "#Let's just check for them after using LabelEncoder()\n",
    "data.head()\n",
    "#As we can see, we have now zeros and ones and not categorical values"
   ]
  },
  {
   "cell_type": "code",
   "execution_count": 26,
   "metadata": {},
   "outputs": [
    {
     "name": "stdout",
     "output_type": "stream",
     "text": [
      "<class 'pandas.core.frame.DataFrame'>\n",
      "RangeIndex: 5110 entries, 0 to 5109\n",
      "Data columns (total 12 columns):\n",
      " #   Column             Non-Null Count  Dtype  \n",
      "---  ------             --------------  -----  \n",
      " 0   id                 5110 non-null   int64  \n",
      " 1   gender             5110 non-null   int32  \n",
      " 2   age                5110 non-null   float64\n",
      " 3   hypertension       5110 non-null   int64  \n",
      " 4   heart_disease      5110 non-null   int64  \n",
      " 5   ever_married       5110 non-null   int32  \n",
      " 6   work_type          5110 non-null   int32  \n",
      " 7   Residence_type     5110 non-null   int32  \n",
      " 8   avg_glucose_level  5110 non-null   float64\n",
      " 9   bmi                5110 non-null   float64\n",
      " 10  smoking_status     5110 non-null   int32  \n",
      " 11  stroke             5110 non-null   int64  \n",
      "dtypes: float64(3), int32(5), int64(4)\n",
      "memory usage: 379.4 KB\n"
     ]
    }
   ],
   "source": [
    "#We can check the info as well\n",
    "data.info()\n",
    "#Now, we cannot see any object values, which means that it has converted"
   ]
  },
  {
   "cell_type": "markdown",
   "metadata": {
    "id": "d1GOfAgt4M-Q"
   },
   "source": [
    "### Normalizing Features"
   ]
  },
  {
   "cell_type": "markdown",
   "metadata": {},
   "source": [
    "#### Now, after we have converted the categorical values, we have to normalize the data to be fair when we work with the data"
   ]
  },
  {
   "cell_type": "markdown",
   "metadata": {
    "id": "EPpkMCXELwty"
   },
   "source": [
    "**Question 6:** Normalize the input data"
   ]
  },
  {
   "cell_type": "code",
   "execution_count": 27,
   "metadata": {
    "id": "BtI_XA-m33Bx"
   },
   "outputs": [
    {
     "data": {
      "text/html": [
       "<div>\n",
       "<style scoped>\n",
       "    .dataframe tbody tr th:only-of-type {\n",
       "        vertical-align: middle;\n",
       "    }\n",
       "\n",
       "    .dataframe tbody tr th {\n",
       "        vertical-align: top;\n",
       "    }\n",
       "\n",
       "    .dataframe thead th {\n",
       "        text-align: right;\n",
       "    }\n",
       "</style>\n",
       "<table border=\"1\" class=\"dataframe\">\n",
       "  <thead>\n",
       "    <tr style=\"text-align: right;\">\n",
       "      <th></th>\n",
       "      <th>id</th>\n",
       "      <th>gender</th>\n",
       "      <th>age</th>\n",
       "      <th>hypertension</th>\n",
       "      <th>heart_disease</th>\n",
       "      <th>ever_married</th>\n",
       "      <th>work_type</th>\n",
       "      <th>Residence_type</th>\n",
       "      <th>avg_glucose_level</th>\n",
       "      <th>bmi</th>\n",
       "      <th>smoking_status</th>\n",
       "      <th>stroke</th>\n",
       "    </tr>\n",
       "  </thead>\n",
       "  <tbody>\n",
       "    <tr>\n",
       "      <th>count</th>\n",
       "      <td>5110.000000</td>\n",
       "      <td>5110.000000</td>\n",
       "      <td>5110.000000</td>\n",
       "      <td>5110.000000</td>\n",
       "      <td>5110.000000</td>\n",
       "      <td>5110.000000</td>\n",
       "      <td>5110.000000</td>\n",
       "      <td>5110.000000</td>\n",
       "      <td>5110.000000</td>\n",
       "      <td>5110.000000</td>\n",
       "      <td>5110.000000</td>\n",
       "      <td>5110.000000</td>\n",
       "    </tr>\n",
       "    <tr>\n",
       "      <th>mean</th>\n",
       "      <td>0.500656</td>\n",
       "      <td>0.207143</td>\n",
       "      <td>0.527154</td>\n",
       "      <td>0.097456</td>\n",
       "      <td>0.054012</td>\n",
       "      <td>0.656164</td>\n",
       "      <td>0.541928</td>\n",
       "      <td>0.508023</td>\n",
       "      <td>0.390622</td>\n",
       "      <td>0.296037</td>\n",
       "      <td>0.458969</td>\n",
       "      <td>0.048728</td>\n",
       "    </tr>\n",
       "    <tr>\n",
       "      <th>std</th>\n",
       "      <td>0.290125</td>\n",
       "      <td>0.246522</td>\n",
       "      <td>0.275764</td>\n",
       "      <td>0.296607</td>\n",
       "      <td>0.226063</td>\n",
       "      <td>0.475034</td>\n",
       "      <td>0.272573</td>\n",
       "      <td>0.499985</td>\n",
       "      <td>0.166643</td>\n",
       "      <td>0.078873</td>\n",
       "      <td>0.357178</td>\n",
       "      <td>0.215320</td>\n",
       "    </tr>\n",
       "    <tr>\n",
       "      <th>min</th>\n",
       "      <td>0.000919</td>\n",
       "      <td>0.000000</td>\n",
       "      <td>0.000976</td>\n",
       "      <td>0.000000</td>\n",
       "      <td>0.000000</td>\n",
       "      <td>0.000000</td>\n",
       "      <td>0.000000</td>\n",
       "      <td>0.000000</td>\n",
       "      <td>0.202841</td>\n",
       "      <td>0.105533</td>\n",
       "      <td>0.000000</td>\n",
       "      <td>0.000000</td>\n",
       "    </tr>\n",
       "    <tr>\n",
       "      <th>25%</th>\n",
       "      <td>0.243231</td>\n",
       "      <td>0.000000</td>\n",
       "      <td>0.304878</td>\n",
       "      <td>0.000000</td>\n",
       "      <td>0.000000</td>\n",
       "      <td>0.000000</td>\n",
       "      <td>0.500000</td>\n",
       "      <td>0.000000</td>\n",
       "      <td>0.284261</td>\n",
       "      <td>0.243852</td>\n",
       "      <td>0.000000</td>\n",
       "      <td>0.000000</td>\n",
       "    </tr>\n",
       "    <tr>\n",
       "      <th>50%</th>\n",
       "      <td>0.506334</td>\n",
       "      <td>0.000000</td>\n",
       "      <td>0.548780</td>\n",
       "      <td>0.000000</td>\n",
       "      <td>0.000000</td>\n",
       "      <td>1.000000</td>\n",
       "      <td>0.500000</td>\n",
       "      <td>1.000000</td>\n",
       "      <td>0.338136</td>\n",
       "      <td>0.290984</td>\n",
       "      <td>0.666667</td>\n",
       "      <td>0.000000</td>\n",
       "    </tr>\n",
       "    <tr>\n",
       "      <th>75%</th>\n",
       "      <td>0.749685</td>\n",
       "      <td>0.500000</td>\n",
       "      <td>0.743902</td>\n",
       "      <td>0.000000</td>\n",
       "      <td>0.000000</td>\n",
       "      <td>1.000000</td>\n",
       "      <td>0.750000</td>\n",
       "      <td>1.000000</td>\n",
       "      <td>0.419850</td>\n",
       "      <td>0.336066</td>\n",
       "      <td>0.666667</td>\n",
       "      <td>0.000000</td>\n",
       "    </tr>\n",
       "    <tr>\n",
       "      <th>max</th>\n",
       "      <td>1.000000</td>\n",
       "      <td>1.000000</td>\n",
       "      <td>1.000000</td>\n",
       "      <td>1.000000</td>\n",
       "      <td>1.000000</td>\n",
       "      <td>1.000000</td>\n",
       "      <td>1.000000</td>\n",
       "      <td>1.000000</td>\n",
       "      <td>1.000000</td>\n",
       "      <td>1.000000</td>\n",
       "      <td>1.000000</td>\n",
       "      <td>1.000000</td>\n",
       "    </tr>\n",
       "  </tbody>\n",
       "</table>\n",
       "</div>"
      ],
      "text/plain": [
       "                id       gender          age  hypertension  heart_disease  \\\n",
       "count  5110.000000  5110.000000  5110.000000   5110.000000    5110.000000   \n",
       "mean      0.500656     0.207143     0.527154      0.097456       0.054012   \n",
       "std       0.290125     0.246522     0.275764      0.296607       0.226063   \n",
       "min       0.000919     0.000000     0.000976      0.000000       0.000000   \n",
       "25%       0.243231     0.000000     0.304878      0.000000       0.000000   \n",
       "50%       0.506334     0.000000     0.548780      0.000000       0.000000   \n",
       "75%       0.749685     0.500000     0.743902      0.000000       0.000000   \n",
       "max       1.000000     1.000000     1.000000      1.000000       1.000000   \n",
       "\n",
       "       ever_married    work_type  Residence_type  avg_glucose_level  \\\n",
       "count   5110.000000  5110.000000     5110.000000        5110.000000   \n",
       "mean       0.656164     0.541928        0.508023           0.390622   \n",
       "std        0.475034     0.272573        0.499985           0.166643   \n",
       "min        0.000000     0.000000        0.000000           0.202841   \n",
       "25%        0.000000     0.500000        0.000000           0.284261   \n",
       "50%        1.000000     0.500000        1.000000           0.338136   \n",
       "75%        1.000000     0.750000        1.000000           0.419850   \n",
       "max        1.000000     1.000000        1.000000           1.000000   \n",
       "\n",
       "               bmi  smoking_status       stroke  \n",
       "count  5110.000000     5110.000000  5110.000000  \n",
       "mean      0.296037        0.458969     0.048728  \n",
       "std       0.078873        0.357178     0.215320  \n",
       "min       0.105533        0.000000     0.000000  \n",
       "25%       0.243852        0.000000     0.000000  \n",
       "50%       0.290984        0.666667     0.000000  \n",
       "75%       0.336066        0.666667     0.000000  \n",
       "max       1.000000        1.000000     1.000000  "
      ]
     },
     "execution_count": 27,
     "metadata": {},
     "output_type": "execute_result"
    }
   ],
   "source": [
    "#Let's normalize the data we have\n",
    "data = data.divide(data.max(axis=0))\n",
    "data.describe()\n",
    "#As we can see, it is better now"
   ]
  },
  {
   "cell_type": "markdown",
   "metadata": {
    "id": "KICuY0lg5nUD"
   },
   "source": [
    "### Removing Unnecessary Features"
   ]
  },
  {
   "cell_type": "markdown",
   "metadata": {
    "id": "ua71U2YxL5Ls"
   },
   "source": [
    "**Question 7:** From the features that you have, remove the feature(s) that is(are) irrelevant to your predictions."
   ]
  },
  {
   "cell_type": "code",
   "execution_count": 28,
   "metadata": {
    "id": "8AHNqYbh5sE7"
   },
   "outputs": [],
   "source": [
    "#From our dataset, the id column does not give us anything, and we do not need it to make prediction, so I am going to drop it\n",
    "data = data.drop('id', axis=1)"
   ]
  },
  {
   "cell_type": "markdown",
   "metadata": {
    "id": "5k-KoLpH5C9R"
   },
   "source": [
    "# Building the DL Model"
   ]
  },
  {
   "cell_type": "markdown",
   "metadata": {
    "id": "uI2VtlafMBeN"
   },
   "source": [
    "**Question 8:** Now it's time to build the actual model, and observe a summary of it."
   ]
  },
  {
   "cell_type": "code",
   "execution_count": 29,
   "metadata": {
    "id": "AZvKqqT65E0W"
   },
   "outputs": [
    {
     "name": "stdout",
     "output_type": "stream",
     "text": [
      "Model: \"sequential\"\n",
      "_________________________________________________________________\n",
      " Layer (type)                Output Shape              Param #   \n",
      "=================================================================\n",
      " dense (Dense)               (None, 32)                352       \n",
      "                                                                 \n",
      " dense_1 (Dense)             (None, 16)                528       \n",
      "                                                                 \n",
      " dense_2 (Dense)             (None, 8)                 136       \n",
      "                                                                 \n",
      " dense_3 (Dense)             (None, 4)                 36        \n",
      "                                                                 \n",
      " dense_4 (Dense)             (None, 2)                 10        \n",
      "                                                                 \n",
      " dense_5 (Dense)             (None, 1)                 3         \n",
      "                                                                 \n",
      "=================================================================\n",
      "Total params: 1065 (4.16 KB)\n",
      "Trainable params: 1065 (4.16 KB)\n",
      "Non-trainable params: 0 (0.00 Byte)\n",
      "_________________________________________________________________\n"
     ]
    }
   ],
   "source": [
    "import tensorflow as tf\n",
    "from tensorflow.keras.models import Sequential\n",
    "from tensorflow.keras.layers import Dense\n",
    "\n",
    "#First, we build the model \n",
    "model = Sequential()\n",
    "#Then, we can add the input layer with the first layer\n",
    "model.add(Dense(32, input_dim=10, activation='relu'))\n",
    "#Then, adding a hidden layer\n",
    "model.add(Dense(16, activation='relu'))\n",
    "#Then, adding a hidden layer\n",
    "model.add(Dense(8, activation='relu'))\n",
    "#Then, adding a hidden layer\n",
    "model.add(Dense(4, activation='relu'))\n",
    "#Then, adding a hidden layer\n",
    "model.add(Dense(2, activation='relu'))\n",
    "#Finally, adding the output layer with 1 and sigmoid activation function\n",
    "model.add(Dense(1, activation='sigmoid'))\n",
    "\n",
    "\n",
    "model.summary()"
   ]
  },
  {
   "cell_type": "markdown",
   "metadata": {
    "id": "AD57fE2n7QP4"
   },
   "source": [
    "### Compiling the model"
   ]
  },
  {
   "cell_type": "markdown",
   "metadata": {
    "id": "seGmh1x1-qH9"
   },
   "source": [
    "**Question 9:**  Now we compile the model. Here we want to measure the accuracy as well as the precision and recall to know better about the performance of our model."
   ]
  },
  {
   "cell_type": "code",
   "execution_count": 30,
   "metadata": {
    "id": "woSsSTEm61_U"
   },
   "outputs": [],
   "source": [
    "model.compile(optimizer='adam', loss='binary_crossentropy', metrics=['accuracy', 'Precision', 'Recall'])"
   ]
  },
  {
   "cell_type": "markdown",
   "metadata": {
    "id": "U5zevRH57X8v"
   },
   "source": [
    "### Fitting the model"
   ]
  },
  {
   "cell_type": "markdown",
   "metadata": {
    "id": "UhaEU26KMUWK"
   },
   "source": [
    "**Question 10:** Split the data and train the model\n",
    "\n",
    "We take the first columns as features and the last column as a label, then we split our dataset between training (70%) and testing (30%)."
   ]
  },
  {
   "cell_type": "code",
   "execution_count": 31,
   "metadata": {
    "id": "rsVOVfn47MLn"
   },
   "outputs": [],
   "source": [
    "from sklearn.model_selection import train_test_split\n",
    "\n",
    "# x = data.drop('stroke', axis=1)\n",
    "# y = data.stroke\n",
    "\n",
    "x = data.iloc[:, :-1]\n",
    "y = data.iloc[:, -1]\n",
    "\n",
    "x_train, x_val, y_train, y_val = train_test_split(x, y, test_size=0.3, stratify=y)"
   ]
  },
  {
   "cell_type": "markdown",
   "metadata": {
    "id": "LVvxbyPyezb3"
   },
   "source": [
    "we fit the model on 80% training data, and validate on the rest. Later we will do the final test on the test data. The training happens for 15 epochs."
   ]
  },
  {
   "cell_type": "code",
   "execution_count": 32,
   "metadata": {
    "id": "KrlvFubpqBeS",
    "scrolled": false
   },
   "outputs": [
    {
     "name": "stdout",
     "output_type": "stream",
     "text": [
      "Epoch 1/15\n",
      "112/112 [==============================] - 7s 16ms/step - loss: 0.6494 - accuracy: 0.8809 - precision: 0.0685 - recall: 0.1149 - val_loss: 0.5154 - val_accuracy: 0.9511 - val_precision: 0.0000e+00 - val_recall: 0.0000e+00\n",
      "Epoch 2/15\n",
      "112/112 [==============================] - 1s 7ms/step - loss: 0.2770 - accuracy: 0.9514 - precision: 0.0000e+00 - recall: 0.0000e+00 - val_loss: 0.2159 - val_accuracy: 0.9511 - val_precision: 0.0000e+00 - val_recall: 0.0000e+00\n",
      "Epoch 3/15\n",
      "112/112 [==============================] - 1s 5ms/step - loss: 0.2109 - accuracy: 0.9514 - precision: 0.0000e+00 - recall: 0.0000e+00 - val_loss: 0.2040 - val_accuracy: 0.9511 - val_precision: 0.0000e+00 - val_recall: 0.0000e+00\n",
      "Epoch 4/15\n",
      "112/112 [==============================] - 1s 7ms/step - loss: 0.2005 - accuracy: 0.9514 - precision: 0.0000e+00 - recall: 0.0000e+00 - val_loss: 0.1923 - val_accuracy: 0.9511 - val_precision: 0.0000e+00 - val_recall: 0.0000e+00\n",
      "Epoch 5/15\n",
      "112/112 [==============================] - 1s 7ms/step - loss: 0.1917 - accuracy: 0.9514 - precision: 0.0000e+00 - recall: 0.0000e+00 - val_loss: 0.1862 - val_accuracy: 0.9511 - val_precision: 0.0000e+00 - val_recall: 0.0000e+00\n",
      "Epoch 6/15\n",
      "112/112 [==============================] - 1s 7ms/step - loss: 0.1853 - accuracy: 0.9514 - precision: 0.0000e+00 - recall: 0.0000e+00 - val_loss: 0.1783 - val_accuracy: 0.9511 - val_precision: 0.0000e+00 - val_recall: 0.0000e+00\n",
      "Epoch 7/15\n",
      "112/112 [==============================] - 1s 7ms/step - loss: 0.1804 - accuracy: 0.9514 - precision: 0.0000e+00 - recall: 0.0000e+00 - val_loss: 0.1731 - val_accuracy: 0.9511 - val_precision: 0.0000e+00 - val_recall: 0.0000e+00\n",
      "Epoch 8/15\n",
      "112/112 [==============================] - 1s 7ms/step - loss: 0.1764 - accuracy: 0.9514 - precision: 0.0000e+00 - recall: 0.0000e+00 - val_loss: 0.1694 - val_accuracy: 0.9511 - val_precision: 0.0000e+00 - val_recall: 0.0000e+00\n",
      "Epoch 9/15\n",
      "112/112 [==============================] - 1s 7ms/step - loss: 0.1731 - accuracy: 0.9514 - precision: 0.0000e+00 - recall: 0.0000e+00 - val_loss: 0.1681 - val_accuracy: 0.9511 - val_precision: 0.0000e+00 - val_recall: 0.0000e+00\n",
      "Epoch 10/15\n",
      "112/112 [==============================] - 1s 7ms/step - loss: 0.1711 - accuracy: 0.9514 - precision: 0.0000e+00 - recall: 0.0000e+00 - val_loss: 0.1645 - val_accuracy: 0.9511 - val_precision: 0.0000e+00 - val_recall: 0.0000e+00\n",
      "Epoch 11/15\n",
      "112/112 [==============================] - 1s 7ms/step - loss: 0.1692 - accuracy: 0.9514 - precision: 0.0000e+00 - recall: 0.0000e+00 - val_loss: 0.1630 - val_accuracy: 0.9511 - val_precision: 0.0000e+00 - val_recall: 0.0000e+00\n",
      "Epoch 12/15\n",
      "112/112 [==============================] - 1s 7ms/step - loss: 0.1667 - accuracy: 0.9514 - precision: 0.0000e+00 - recall: 0.0000e+00 - val_loss: 0.1621 - val_accuracy: 0.9511 - val_precision: 0.0000e+00 - val_recall: 0.0000e+00\n",
      "Epoch 13/15\n",
      "112/112 [==============================] - 1s 7ms/step - loss: 0.1657 - accuracy: 0.9514 - precision: 0.0000e+00 - recall: 0.0000e+00 - val_loss: 0.1593 - val_accuracy: 0.9511 - val_precision: 0.0000e+00 - val_recall: 0.0000e+00\n",
      "Epoch 14/15\n",
      "112/112 [==============================] - 1s 7ms/step - loss: 0.1639 - accuracy: 0.9514 - precision: 0.0000e+00 - recall: 0.0000e+00 - val_loss: 0.1585 - val_accuracy: 0.9511 - val_precision: 0.0000e+00 - val_recall: 0.0000e+00\n",
      "Epoch 15/15\n",
      "112/112 [==============================] - 1s 7ms/step - loss: 0.1618 - accuracy: 0.9514 - precision: 0.0000e+00 - recall: 0.0000e+00 - val_loss: 0.1573 - val_accuracy: 0.9511 - val_precision: 0.0000e+00 - val_recall: 0.0000e+00\n"
     ]
    }
   ],
   "source": [
    "history = model.fit(x_train, y_train, validation_data=(x_val, y_val), epochs=15)"
   ]
  },
  {
   "cell_type": "markdown",
   "metadata": {
    "id": "voqUo00lAqCZ"
   },
   "source": [
    "# Improving DL Models"
   ]
  },
  {
   "cell_type": "markdown",
   "metadata": {
    "id": "Op2Frp44uSiX"
   },
   "source": [
    "**Question 11:** Suggest ways to improve your model"
   ]
  },
  {
   "cell_type": "markdown",
   "metadata": {
    "id": "IImSYWQGBSz6"
   },
   "source": [
    "### Checking For Data Imbalance"
   ]
  },
  {
   "cell_type": "markdown",
   "metadata": {
    "id": "ZHxCONODMkNN"
   },
   "source": [
    "We check for imbalance because we have a poor recall and precision."
   ]
  },
  {
   "cell_type": "code",
   "execution_count": 33,
   "metadata": {
    "scrolled": false
   },
   "outputs": [
    {
     "data": {
      "image/png": "[encoded data removed]",
      "text/plain": [
       "<Figure size 800x600 with 1 Axes>"
      ]
     },
     "metadata": {},
     "output_type": "display_data"
    }
   ],
   "source": [
    "stroke_counts = data.stroke.value_counts()\n",
    "\n",
    "# Create a bar plot\n",
    "plt.figure(figsize=(8, 6))\n",
    "stroke_counts.plot(kind='bar')\n",
    "plt.xlabel('stroke')\n",
    "plt.ylabel('Count')\n",
    "plt.title('Distribution of stroke')\n",
    "plt.show()"
   ]
  },
  {
   "cell_type": "code",
   "execution_count": 34,
   "metadata": {
    "scrolled": false
   },
   "outputs": [
    {
     "data": {
      "image/png": "[encoded data removed]",
      "text/plain": [
       "<Figure size 800x600 with 1 Axes>"
      ]
     },
     "metadata": {},
     "output_type": "display_data"
    }
   ],
   "source": [
    "# Create a pie chart\n",
    "plt.figure(figsize=(8, 6))\n",
    "plt.pie(stroke_counts, labels=stroke_counts.index, autopct='%1.1f%%')\n",
    "plt.title('Distribution of of stroke')\n",
    "plt.show()"
   ]
  },
  {
   "cell_type": "code",
   "execution_count": 35,
   "metadata": {},
   "outputs": [
    {
     "data": {
      "image/png": "[encoded data removed]",
      "text/plain": [
       "<Figure size 800x600 with 1 Axes>"
      ]
     },
     "metadata": {},
     "output_type": "display_data"
    }
   ],
   "source": [
    "# Create a histogram plot\n",
    "plt.figure(figsize=(8, 6))\n",
    "plt.hist(data.stroke, bins=5) \n",
    "plt.xlabel('stroke')\n",
    "plt.ylabel('count')\n",
    "plt.title('Histogram of stroke')\n",
    "plt.show()"
   ]
  },
  {
   "cell_type": "markdown",
   "metadata": {
    "id": "gzZBB5GMCOld"
   },
   "source": [
    "We have a huge imbalance in the data, this is why we fix it with oversamppling and undersampling.\n",
    "\n",
    "We will oversample this time using the SMOTE() function instead of random oversampling, and this is because SMOTE will generate new data based on the data that we have, so we avoid overfitting."
   ]
  },
  {
   "cell_type": "code",
   "execution_count": 36,
   "metadata": {
    "id": "US4xON4LBX8I",
    "scrolled": true
   },
   "outputs": [
    {
     "data": {
      "text/plain": [
       "(array([4861.,    0.,    0.,    0.,    0.,    0.,    0.,    0.,    0.,\n",
       "        4861.]),\n",
       " array([0. , 0.1, 0.2, 0.3, 0.4, 0.5, 0.6, 0.7, 0.8, 0.9, 1. ]),\n",
       " <BarContainer object of 10 artists>)"
      ]
     },
     "execution_count": 36,
     "metadata": {},
     "output_type": "execute_result"
    },
    {
     "data": {
      "image/png": "[encoded data removed]",
      "text/plain": [
       "<Figure size 640x480 with 1 Axes>"
      ]
     },
     "metadata": {},
     "output_type": "display_data"
    }
   ],
   "source": [
    "from imblearn.over_sampling import SMOTE\n",
    "\n",
    "over = SMOTE()\n",
    "x_new, y_new = over.fit_resample(x, y)\n",
    "\n",
    "\n",
    "plt.hist([y_new])"
   ]
  },
  {
   "cell_type": "markdown",
   "metadata": {
    "id": "OmfeUhi1ezb9"
   },
   "source": [
    "Split the balanced dataset between 90% (training and validation), 10% testing\n",
    "Then divide the 90% between 80% training and 20% validation"
   ]
  },
  {
   "cell_type": "code",
   "execution_count": 38,
   "metadata": {
    "id": "IxnYFoPZezb-"
   },
   "outputs": [],
   "source": [
    "from sklearn.model_selection import train_test_split\n",
    "\n",
    "\n",
    "x_train_val, x_test, y_train_val, y_test = train_test_split(x_new, y_new, test_size=0.1, stratify=y_new)\n",
    "x_train, x_val, y_train, y_val = train_test_split(x_train_val, y_train_val, test_size=0.2, stratify=y_train_val)"
   ]
  },
  {
   "cell_type": "markdown",
   "metadata": {
    "id": "dgyxF74oezcA"
   },
   "source": [
    "Now we will train the model on the balanced data, and tune it on the validation set"
   ]
  },
  {
   "cell_type": "code",
   "execution_count": 39,
   "metadata": {
    "id": "26YTispLEm9N"
   },
   "outputs": [
    {
     "name": "stdout",
     "output_type": "stream",
     "text": [
      "Epoch 1/15\n",
      "219/219 [==============================] - 2s 7ms/step - loss: 0.5121 - accuracy: 0.7561 - precision: 0.7549 - recall: 0.7586 - val_loss: 0.4706 - val_accuracy: 0.7771 - val_precision: 0.7539 - val_recall: 0.8229\n",
      "Epoch 2/15\n",
      "219/219 [==============================] - 1s 6ms/step - loss: 0.4540 - accuracy: 0.7921 - precision: 0.7724 - recall: 0.8283 - val_loss: 0.4649 - val_accuracy: 0.7880 - val_precision: 0.7698 - val_recall: 0.8217\n",
      "Epoch 3/15\n",
      "219/219 [==============================] - 1s 6ms/step - loss: 0.4481 - accuracy: 0.7947 - precision: 0.7768 - recall: 0.8271 - val_loss: 0.4681 - val_accuracy: 0.7857 - val_precision: 0.7475 - val_recall: 0.8629\n",
      "Epoch 4/15\n",
      "219/219 [==============================] - 1s 5ms/step - loss: 0.4440 - accuracy: 0.7981 - precision: 0.7753 - recall: 0.8397 - val_loss: 0.4594 - val_accuracy: 0.7943 - val_precision: 0.7778 - val_recall: 0.8240\n",
      "Epoch 5/15\n",
      "219/219 [==============================] - 1s 5ms/step - loss: 0.4404 - accuracy: 0.8004 - precision: 0.7775 - recall: 0.8417 - val_loss: 0.4638 - val_accuracy: 0.7937 - val_precision: 0.7550 - val_recall: 0.8697\n",
      "Epoch 6/15\n",
      "219/219 [==============================] - 1s 6ms/step - loss: 0.4384 - accuracy: 0.8047 - precision: 0.7816 - recall: 0.8457 - val_loss: 0.4619 - val_accuracy: 0.7903 - val_precision: 0.7545 - val_recall: 0.8606\n",
      "Epoch 7/15\n",
      "219/219 [==============================] - 1s 6ms/step - loss: 0.4375 - accuracy: 0.8008 - precision: 0.7783 - recall: 0.8414 - val_loss: 0.4560 - val_accuracy: 0.7886 - val_precision: 0.7678 - val_recall: 0.8274\n",
      "Epoch 8/15\n",
      "219/219 [==============================] - 1s 6ms/step - loss: 0.4346 - accuracy: 0.8018 - precision: 0.7790 - recall: 0.8429 - val_loss: 0.4546 - val_accuracy: 0.7851 - val_precision: 0.7800 - val_recall: 0.7943\n",
      "Epoch 9/15\n",
      "219/219 [==============================] - 1s 6ms/step - loss: 0.4327 - accuracy: 0.8038 - precision: 0.7819 - recall: 0.8429 - val_loss: 0.4525 - val_accuracy: 0.7891 - val_precision: 0.7720 - val_recall: 0.8206\n",
      "Epoch 10/15\n",
      "219/219 [==============================] - 1s 6ms/step - loss: 0.4298 - accuracy: 0.8048 - precision: 0.7842 - recall: 0.8411 - val_loss: 0.4536 - val_accuracy: 0.7909 - val_precision: 0.7589 - val_recall: 0.8526\n",
      "Epoch 11/15\n",
      "219/219 [==============================] - 1s 6ms/step - loss: 0.4289 - accuracy: 0.8054 - precision: 0.7819 - recall: 0.8471 - val_loss: 0.4501 - val_accuracy: 0.7909 - val_precision: 0.7665 - val_recall: 0.8366\n",
      "Epoch 12/15\n",
      "219/219 [==============================] - 1s 6ms/step - loss: 0.4264 - accuracy: 0.8063 - precision: 0.7839 - recall: 0.8457 - val_loss: 0.4470 - val_accuracy: 0.7914 - val_precision: 0.7719 - val_recall: 0.8274\n",
      "Epoch 13/15\n",
      "219/219 [==============================] - 1s 6ms/step - loss: 0.4244 - accuracy: 0.8075 - precision: 0.7843 - recall: 0.8486 - val_loss: 0.4463 - val_accuracy: 0.7931 - val_precision: 0.7773 - val_recall: 0.8217\n",
      "Epoch 14/15\n",
      "219/219 [==============================] - 1s 6ms/step - loss: 0.4228 - accuracy: 0.8064 - precision: 0.7841 - recall: 0.8457 - val_loss: 0.4450 - val_accuracy: 0.7857 - val_precision: 0.7671 - val_recall: 0.8206\n",
      "Epoch 15/15\n",
      "219/219 [==============================] - 1s 6ms/step - loss: 0.4205 - accuracy: 0.8064 - precision: 0.7844 - recall: 0.8451 - val_loss: 0.4428 - val_accuracy: 0.7937 - val_precision: 0.7694 - val_recall: 0.8389\n"
     ]
    }
   ],
   "source": [
    "history = model.fit(x_train, y_train, validation_data=(x_val, y_val), epochs=15)"
   ]
  },
  {
   "cell_type": "markdown",
   "metadata": {
    "id": "wAhUAu5JezcC"
   },
   "source": [
    "Evaluate your model on the test set that you kept aside at the beginning."
   ]
  },
  {
   "cell_type": "code",
   "execution_count": 40,
   "metadata": {
    "id": "utTyIgJLezcD"
   },
   "outputs": [
    {
     "name": "stdout",
     "output_type": "stream",
     "text": [
      "31/31 [==============================] - 0s 4ms/step - loss: 0.4444 - accuracy: 0.7852 - precision: 0.7648 - recall: 0.8230\n"
     ]
    },
    {
     "data": {
      "text/plain": [
       "[0.44437360763549805,\n",
       " 0.7852004170417786,\n",
       " 0.7648183703422546,\n",
       " 0.8230452537536621]"
      ]
     },
     "execution_count": 40,
     "metadata": {},
     "output_type": "execute_result"
    }
   ],
   "source": [
    "model.evaluate(x_test, y_test)"
   ]
  },
  {
   "cell_type": "markdown",
   "metadata": {
    "id": "hhfhpIaWGtz2"
   },
   "source": [
    "We see that the performance gets better when our data became balanced.\n",
    "Now we will try improving our model with other techniques that we learned through the week."
   ]
  },
  {
   "cell_type": "markdown",
   "metadata": {
    "id": "ngJVLbRKG7U_"
   },
   "source": [
    "### Model Design"
   ]
  },
  {
   "cell_type": "markdown",
   "metadata": {
    "id": "sMdcXspCHxIo"
   },
   "source": [
    "We will introduce batch normalization after each layer and then train the model"
   ]
  },
  {
   "cell_type": "code",
   "execution_count": 41,
   "metadata": {
    "id": "yK78-g-hHrmq"
   },
   "outputs": [
    {
     "name": "stdout",
     "output_type": "stream",
     "text": [
      "Model: \"sequential_1\"\n",
      "_________________________________________________________________\n",
      " Layer (type)                Output Shape              Param #   \n",
      "=================================================================\n",
      " dense_6 (Dense)             (None, 32)                352       \n",
      "                                                                 \n",
      " batch_normalization (Batch  (None, 32)                128       \n",
      " Normalization)                                                  \n",
      "                                                                 \n",
      " dense_7 (Dense)             (None, 16)                528       \n",
      "                                                                 \n",
      " batch_normalization_1 (Bat  (None, 16)                64        \n",
      " chNormalization)                                                \n",
      "                                                                 \n",
      " dense_8 (Dense)             (None, 8)                 136       \n",
      "                                                                 \n",
      " batch_normalization_2 (Bat  (None, 8)                 32        \n",
      " chNormalization)                                                \n",
      "                                                                 \n",
      " dense_9 (Dense)             (None, 4)                 36        \n",
      "                                                                 \n",
      " batch_normalization_3 (Bat  (None, 4)                 16        \n",
      " chNormalization)                                                \n",
      "                                                                 \n",
      " dense_10 (Dense)            (None, 2)                 10        \n",
      "                                                                 \n",
      " batch_normalization_4 (Bat  (None, 2)                 8         \n",
      " chNormalization)                                                \n",
      "                                                                 \n",
      " dense_11 (Dense)            (None, 1)                 3         \n",
      "                                                                 \n",
      "=================================================================\n",
      "Total params: 1313 (5.13 KB)\n",
      "Trainable params: 1189 (4.64 KB)\n",
      "Non-trainable params: 124 (496.00 Byte)\n",
      "_________________________________________________________________\n"
     ]
    }
   ],
   "source": [
    "from tensorflow.keras.layers import BatchNormalization\n",
    "model = Sequential()\n",
    "\n",
    "model.add(Dense(32, input_dim=10, activation='relu'))\n",
    "model.add(BatchNormalization())\n",
    "model.add(Dense(16, activation='relu'))\n",
    "model.add(BatchNormalization())\n",
    "model.add(Dense(8, activation='relu'))\n",
    "model.add(BatchNormalization())\n",
    "model.add(Dense(4, activation='relu'))\n",
    "model.add(BatchNormalization())\n",
    "model.add(Dense(2, activation='relu'))\n",
    "model.add(BatchNormalization())\n",
    "model.add(Dense(1, activation='sigmoid'))\n",
    "\n",
    "model.summary()\n"
   ]
  },
  {
   "cell_type": "code",
   "execution_count": 42,
   "metadata": {
    "id": "REDrQVWLJLs5"
   },
   "outputs": [
    {
     "name": "stdout",
     "output_type": "stream",
     "text": [
      "Epoch 1/15\n",
      "219/219 [==============================] - 13s 14ms/step - loss: 0.6192 - accuracy: 0.6691 - precision: 0.7351 - recall: 0.5289 - val_loss: 0.5629 - val_accuracy: 0.7000 - val_precision: 0.6676 - val_recall: 0.7966\n",
      "Epoch 2/15\n",
      "219/219 [==============================] - 2s 8ms/step - loss: 0.5152 - accuracy: 0.7420 - precision: 0.7584 - recall: 0.7103 - val_loss: 0.5051 - val_accuracy: 0.7623 - val_precision: 0.7008 - val_recall: 0.9154\n",
      "Epoch 3/15\n",
      "219/219 [==============================] - 2s 9ms/step - loss: 0.4702 - accuracy: 0.7800 - precision: 0.7505 - recall: 0.8389 - val_loss: 0.4752 - val_accuracy: 0.7743 - val_precision: 0.7037 - val_recall: 0.9474\n",
      "Epoch 4/15\n",
      "219/219 [==============================] - 2s 9ms/step - loss: 0.4522 - accuracy: 0.7878 - precision: 0.7468 - recall: 0.8711 - val_loss: 0.4396 - val_accuracy: 0.7920 - val_precision: 0.7329 - val_recall: 0.9189\n",
      "Epoch 5/15\n",
      "219/219 [==============================] - 2s 9ms/step - loss: 0.4418 - accuracy: 0.7941 - precision: 0.7507 - recall: 0.8809 - val_loss: 0.4340 - val_accuracy: 0.7914 - val_precision: 0.7327 - val_recall: 0.9177\n",
      "Epoch 6/15\n",
      "219/219 [==============================] - 2s 9ms/step - loss: 0.4334 - accuracy: 0.7938 - precision: 0.7498 - recall: 0.8820 - val_loss: 0.4304 - val_accuracy: 0.7897 - val_precision: 0.7315 - val_recall: 0.9154\n",
      "Epoch 7/15\n",
      "219/219 [==============================] - 2s 9ms/step - loss: 0.4300 - accuracy: 0.8030 - precision: 0.7611 - recall: 0.8831 - val_loss: 0.4142 - val_accuracy: 0.7971 - val_precision: 0.7490 - val_recall: 0.8937\n",
      "Epoch 8/15\n",
      "219/219 [==============================] - 2s 9ms/step - loss: 0.4267 - accuracy: 0.8045 - precision: 0.7639 - recall: 0.8817 - val_loss: 0.4154 - val_accuracy: 0.8057 - val_precision: 0.7585 - val_recall: 0.8971\n",
      "Epoch 9/15\n",
      "219/219 [==============================] - 2s 8ms/step - loss: 0.4185 - accuracy: 0.8058 - precision: 0.7674 - recall: 0.8777 - val_loss: 0.4116 - val_accuracy: 0.8086 - val_precision: 0.7744 - val_recall: 0.8709\n",
      "Epoch 10/15\n",
      "219/219 [==============================] - 2s 8ms/step - loss: 0.4176 - accuracy: 0.8017 - precision: 0.7640 - recall: 0.8731 - val_loss: 0.4091 - val_accuracy: 0.8080 - val_precision: 0.7799 - val_recall: 0.8583\n",
      "Epoch 11/15\n",
      "219/219 [==============================] - 2s 9ms/step - loss: 0.4167 - accuracy: 0.8071 - precision: 0.7711 - recall: 0.8737 - val_loss: 0.4018 - val_accuracy: 0.8189 - val_precision: 0.7864 - val_recall: 0.8754\n",
      "Epoch 12/15\n",
      "219/219 [==============================] - 2s 9ms/step - loss: 0.4119 - accuracy: 0.8105 - precision: 0.7745 - recall: 0.8763 - val_loss: 0.3974 - val_accuracy: 0.8103 - val_precision: 0.7756 - val_recall: 0.8731\n",
      "Epoch 13/15\n",
      "219/219 [==============================] - 2s 9ms/step - loss: 0.4082 - accuracy: 0.8073 - precision: 0.7722 - recall: 0.8717 - val_loss: 0.3896 - val_accuracy: 0.8229 - val_precision: 0.7909 - val_recall: 0.8777\n",
      "Epoch 14/15\n",
      "219/219 [==============================] - 2s 8ms/step - loss: 0.4051 - accuracy: 0.8153 - precision: 0.7785 - recall: 0.8814 - val_loss: 0.3794 - val_accuracy: 0.8291 - val_precision: 0.7994 - val_recall: 0.8789\n",
      "Epoch 15/15\n",
      "219/219 [==============================] - 2s 9ms/step - loss: 0.4049 - accuracy: 0.8113 - precision: 0.7729 - recall: 0.8817 - val_loss: 0.3867 - val_accuracy: 0.8274 - val_precision: 0.7926 - val_recall: 0.8869\n"
     ]
    }
   ],
   "source": [
    "model.compile(optimizer='adam', loss='binary_crossentropy', metrics=['accuracy', 'Precision', 'Recall'])\n",
    "\n",
    "history2 = model.fit(x_train, y_train, validation_data=(x_val, y_val), epochs=15)"
   ]
  },
  {
   "cell_type": "code",
   "execution_count": 43,
   "metadata": {
    "id": "eenpPyr_ezcH"
   },
   "outputs": [
    {
     "name": "stdout",
     "output_type": "stream",
     "text": [
      "31/31 [==============================] - 0s 4ms/step - loss: 0.3940 - accuracy: 0.8150 - precision: 0.7823 - recall: 0.8724\n"
     ]
    },
    {
     "data": {
      "text/plain": [
       "[0.3940421938896179,\n",
       " 0.8150051236152649,\n",
       " 0.7822878360748291,\n",
       " 0.8724279999732971]"
      ]
     },
     "execution_count": 43,
     "metadata": {},
     "output_type": "execute_result"
    }
   ],
   "source": [
    "model.evaluate(x_test, y_test)"
   ]
  },
  {
   "cell_type": "markdown",
   "metadata": {
    "id": "hhkSEThVKEdm"
   },
   "source": [
    "We see that we are achieving better metrics with batch normalization."
   ]
  }
 ],
 "metadata": {
  "colab": {
   "collapsed_sections": [
    "d1GOfAgt4M-Q",
    "KICuY0lg5nUD",
    "AD57fE2n7QP4",
    "U5zevRH57X8v",
    "IImSYWQGBSz6",
    "ngJVLbRKG7U_",
    "mXf6cpO_KWTs"
   ],
   "provenance": [],
   "toc_visible": true
  },
  "kernelspec": {
   "display_name": "Python 3 (ipykernel)",
   "language": "python",
   "name": "python3"
  },
  "language_info": {
   "codemirror_mode": {
    "name": "ipython",
    "version": 3
   },
   "file_extension": ".py",
   "mimetype": "text/x-python",
   "name": "python",
   "nbconvert_exporter": "python",
   "pygments_lexer": "ipython3",
   "version": "3.11.5"
  },
  "vscode": {
   "interpreter": {
    "hash": "8c3d4d9970fc5c09c50d9318a9c7fbf4d0159e4b28833276f5678ee22bded273"
   }
  }
 },
 "nbformat": 4,
 "nbformat_minor": 1
}
