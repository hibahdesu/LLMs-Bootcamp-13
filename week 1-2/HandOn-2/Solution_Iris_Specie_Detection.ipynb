{
 "cells": [
  {
   "cell_type": "markdown",
   "metadata": {
    "id": "Gp6PucwEE125"
   },
   "source": [
    "#Binary and Multi-class classification\n",
    "---\n",
    "\n",
    "\n",
    "**Objective:** This notebook is comprised of two independent exercises: a multi-classication with Iris flower data and a binary classification with sonar data. The objective of the first exercise is to prepare data for a multiclassification model and training it. For the second, We will train and evaluate a binary classification model and learn how to apply standardization on a dataset and create a pipeline for evaluation of models."
   ]
  },
  {
   "cell_type": "markdown",
   "metadata": {
    "id": "y_iWbkG3Dov4"
   },
   "source": [
    "## Multi-class classification with Iris Dataset"
   ]
  },
  {
   "cell_type": "markdown",
   "metadata": {
    "id": "x3PehS5h75-e"
   },
   "source": [
    "### 1. Load data\n",
    "\n",
    "In this notebook, we are going to use the **Iris flower** dataset. This is another standard machine learning dataset from the UCI Machine Learning repository. Each instance describes the properties of an observed flower measurements and the output variable is specific iris species.\n",
    "\n",
    "This is a multi-class classification problem, meaning that there are more than two classes to be predicted, in fact there are three flower species.\n",
    "\n",
    "The variables can be summarized as follows:\n",
    "\n",
    "**Input Variables (X):**\n",
    "\n",
    "\n",
    "1. Sepal length in cm\n",
    "2. Sepal width in cm\n",
    "3. Petal length in cm\n",
    "4. Petal width in cm\n",
    "\n",
    "**Output Variable (Y):**\n",
    "\n",
    "*   Class:\n",
    " - Iris Setosa\n",
    " - Iris Versicolour\n",
    " - Iris Virginica\n",
    "\n",
    "\n"
   ]
  },
  {
   "cell_type": "code",
   "execution_count": 1,
   "metadata": {
    "executionInfo": {
     "elapsed": 1411,
     "status": "ok",
     "timestamp": 1690802259931,
     "user": {
      "displayName": "Amanda Hachem",
      "userId": "07936363838080570525"
     },
     "user_tz": -180
    },
    "id": "6493eiB-71lx"
   },
   "outputs": [],
   "source": [
    "from pandas import read_csv\n",
    "\n",
    "# load dataset\n",
    "dataframe = read_csv(\"iris.csv\", header=None)\n",
    "dataset = dataframe.values\n",
    "\n",
    "# split X and Y features\n",
    "X = dataset[:,0:4].astype(float)\n",
    "Y = dataset[:,4]\n"
   ]
  },
  {
   "cell_type": "markdown",
   "metadata": {
    "id": "WQbqVaPU914x"
   },
   "source": [
    "### 2. Encode the output variable\n"
   ]
  },
  {
   "cell_type": "code",
   "execution_count": 2,
   "metadata": {
    "executionInfo": {
     "elapsed": 4108,
     "status": "ok",
     "timestamp": 1690802264036,
     "user": {
      "displayName": "Amanda Hachem",
      "userId": "07936363838080570525"
     },
     "user_tz": -180
    },
    "id": "ME2DAz4k94SB"
   },
   "outputs": [],
   "source": [
    "from sklearn.preprocessing import LabelEncoder\n",
    "from tensorflow.keras.utils import to_categorical\n",
    "\n",
    "# encode class values as integers\n",
    "encoder = LabelEncoder()\n",
    "encoder.fit(Y)\n",
    "encoded_Y = encoder.transform(Y)\n",
    "\n",
    "# convert integers to dummy variables (i.e. one hot encoded)\n",
    "dummy_y = to_categorical(encoded_Y)"
   ]
  },
  {
   "cell_type": "markdown",
   "metadata": {
    "id": "a-4v8_6v-BDj"
   },
   "source": [
    "### 3. Define Keras Model\n",
    "\n",
    "Create a Keras Sequential model that has 1 hidden layers, with the `relu` activation function.\n",
    "\n",
    "We should define a `create_model()` funtion that will create the model, compile it and return it."
   ]
  },
  {
   "cell_type": "code",
   "execution_count": 3,
   "metadata": {
    "executionInfo": {
     "elapsed": 8,
     "status": "ok",
     "timestamp": 1690802264037,
     "user": {
      "displayName": "Amanda Hachem",
      "userId": "07936363838080570525"
     },
     "user_tz": -180
    },
    "id": "t9GhvIx0973_"
   },
   "outputs": [],
   "source": [
    "from tensorflow.keras.models import Sequential\n",
    "from tensorflow.keras.layers import Dense\n",
    "\n",
    "# define baseline model\n",
    "def create_model():\n",
    "\t# create model\n",
    "\tmodel = Sequential()\n",
    "\tmodel.add(Dense(10, input_dim=(4), activation='relu'))\n",
    "\tmodel.add(Dense(3, activation='softmax'))\n",
    "\n",
    "\t# Compile model\n",
    "\tmodel.compile(optimizer='sgd', loss='categorical_crossentropy', metrics=['accuracy'])\n",
    "\n",
    "\treturn model"
   ]
  },
  {
   "cell_type": "markdown",
   "metadata": {
    "id": "Sbapy2_R-ohc"
   },
   "source": [
    "### 4. Train Model\n",
    "\n",
    "Let's train the model for 20 epochs with batch size equals to 5."
   ]
  },
  {
   "cell_type": "code",
   "execution_count": 4,
   "metadata": {
    "colab": {
     "base_uri": "https://localhost:8080/"
    },
    "executionInfo": {
     "elapsed": 3612,
     "status": "ok",
     "timestamp": 1690802267643,
     "user": {
      "displayName": "Amanda Hachem",
      "userId": "07936363838080570525"
     },
     "user_tz": -180
    },
    "id": "ivmHGOKN-t4k",
    "outputId": "1ab2ba14-fc90-4790-8275-fcc25fa5414e"
   },
   "outputs": [
    {
     "name": "stdout",
     "output_type": "stream",
     "text": [
      "Epoch 1/20\n",
      "30/30 [==============================] - 1s 2ms/step - loss: 1.4039 - accuracy: 0.3933\n",
      "Epoch 2/20\n",
      "30/30 [==============================] - 0s 2ms/step - loss: 0.8833 - accuracy: 0.5533\n",
      "Epoch 3/20\n",
      "30/30 [==============================] - 0s 2ms/step - loss: 0.8075 - accuracy: 0.6000\n",
      "Epoch 4/20\n",
      "30/30 [==============================] - 0s 2ms/step - loss: 0.7558 - accuracy: 0.7733\n",
      "Epoch 5/20\n",
      "30/30 [==============================] - 0s 2ms/step - loss: 0.7182 - accuracy: 0.7867\n",
      "Epoch 6/20\n",
      "30/30 [==============================] - 0s 2ms/step - loss: 0.6636 - accuracy: 0.8067\n",
      "Epoch 7/20\n",
      "30/30 [==============================] - 0s 2ms/step - loss: 0.6156 - accuracy: 0.8800\n",
      "Epoch 8/20\n",
      "30/30 [==============================] - 0s 2ms/step - loss: 0.5774 - accuracy: 0.8867\n",
      "Epoch 9/20\n",
      "30/30 [==============================] - 0s 2ms/step - loss: 0.5308 - accuracy: 0.8800\n",
      "Epoch 10/20\n",
      "30/30 [==============================] - 0s 2ms/step - loss: 0.4909 - accuracy: 0.9067\n",
      "Epoch 11/20\n",
      "30/30 [==============================] - 0s 2ms/step - loss: 0.4718 - accuracy: 0.8733\n",
      "Epoch 12/20\n",
      "30/30 [==============================] - 0s 2ms/step - loss: 0.4520 - accuracy: 0.9067\n",
      "Epoch 13/20\n",
      "30/30 [==============================] - 0s 2ms/step - loss: 0.4185 - accuracy: 0.9000\n",
      "Epoch 14/20\n",
      "30/30 [==============================] - 0s 2ms/step - loss: 0.3981 - accuracy: 0.9133\n",
      "Epoch 15/20\n",
      "30/30 [==============================] - 0s 2ms/step - loss: 0.3818 - accuracy: 0.9400\n",
      "Epoch 16/20\n",
      "30/30 [==============================] - 0s 2ms/step - loss: 0.3690 - accuracy: 0.9067\n",
      "Epoch 17/20\n",
      "30/30 [==============================] - 0s 2ms/step - loss: 0.3447 - accuracy: 0.9133\n",
      "Epoch 18/20\n",
      "30/30 [==============================] - 0s 2ms/step - loss: 0.3496 - accuracy: 0.9400\n",
      "Epoch 19/20\n",
      "30/30 [==============================] - 0s 2ms/step - loss: 0.3240 - accuracy: 0.9133\n",
      "Epoch 20/20\n",
      "30/30 [==============================] - 0s 2ms/step - loss: 0.3124 - accuracy: 0.9267\n"
     ]
    },
    {
     "data": {
      "text/plain": [
       "<keras.callbacks.History at 0x7c9c4c1374f0>"
      ]
     },
     "execution_count": 4,
     "metadata": {},
     "output_type": "execute_result"
    }
   ],
   "source": [
    "model = create_model()\n",
    "model.fit(X, dummy_y, epochs=20, batch_size=5)"
   ]
  },
  {
   "cell_type": "markdown",
   "metadata": {
    "id": "Ky_AtYXTDyyt"
   },
   "source": [
    "## Binary Classification with Sonar Dataset"
   ]
  },
  {
   "cell_type": "markdown",
   "metadata": {
    "id": "y1AAzP8rDMhO"
   },
   "source": [
    "### 1. Load dataset\n",
    "\n",
    "The dataset we will use in this tutorial is the [Sonar dataset](https://archive.ics.uci.edu/ml/datasets/Connectionist+Bench+(Sonar,+Mines+vs.+Rocks)).\n",
    "\n",
    "This is a dataset that describes sonar chirp returns bouncing off different services. The 60 input variables are the strength of the returns at different angles. It is a binary classification problem that requires a model to differentiate rocks from metal cylinders.\n",
    "\n",
    "It is a well-understood dataset. All of the variables are continuous and generally in the range of 0 to 1. The output variable is a string “M” for mine and “R” for rock, which will need to be converted to integers 1 and 0."
   ]
  },
  {
   "cell_type": "code",
   "execution_count": 5,
   "metadata": {
    "executionInfo": {
     "elapsed": 13,
     "status": "ok",
     "timestamp": 1690802267644,
     "user": {
      "displayName": "Amanda Hachem",
      "userId": "07936363838080570525"
     },
     "user_tz": -180
    },
    "id": "Lbz99VsDCssb"
   },
   "outputs": [],
   "source": [
    "# Binary Classification with Sonar Dataset: Baseline\n",
    "\n",
    "from pandas import read_csv\n",
    "# load dataset\n",
    "dataframe = read_csv(\"sonar.csv\", header=None)\n",
    "dataset = dataframe.values\n",
    "\n",
    "# split into input (X) and output (Y) variables\n",
    "X = dataset[:,0:60].astype(float)\n",
    "Y = dataset[:,60]"
   ]
  },
  {
   "cell_type": "markdown",
   "metadata": {
    "id": "FFfJu1sXLl2X"
   },
   "source": [
    "### 2. Encode output variable\n"
   ]
  },
  {
   "cell_type": "code",
   "execution_count": 6,
   "metadata": {
    "executionInfo": {
     "elapsed": 12,
     "status": "ok",
     "timestamp": 1690802267644,
     "user": {
      "displayName": "Amanda Hachem",
      "userId": "07936363838080570525"
     },
     "user_tz": -180
    },
    "id": "OzI15A8ELoYC"
   },
   "outputs": [],
   "source": [
    "from sklearn.preprocessing import LabelEncoder\n",
    "\n",
    "# encode class values as integers\n",
    "encoder = LabelEncoder()\n",
    "encoder.fit(Y)\n",
    "encoded_Y = encoder.transform(Y)"
   ]
  },
  {
   "cell_type": "markdown",
   "metadata": {
    "id": "0hhB461HLtjw"
   },
   "source": [
    "### 3. Define Keras Model\n",
    "\n",
    "Create a Keras model with 1 hidden layer of size 60 and 1 output layer. The layers should have a 'normal' initialization of weights.\n",
    "\n",
    "Compile the model with adam optimizer.\n",
    "\n",
    "We should define a `baseline_model()` funtion that will create the model, compile it and return it."
   ]
  },
  {
   "cell_type": "code",
   "execution_count": 7,
   "metadata": {
    "executionInfo": {
     "elapsed": 13,
     "status": "ok",
     "timestamp": 1690802267645,
     "user": {
      "displayName": "Amanda Hachem",
      "userId": "07936363838080570525"
     },
     "user_tz": -180
    },
    "id": "0lVz94h7LwYl"
   },
   "outputs": [],
   "source": [
    "from tensorflow.keras.models import Sequential\n",
    "from tensorflow.keras.layers import Dense\n",
    "\n",
    "def create_baseline():\n",
    "\t#b\n",
    "\t# create model\n",
    "\tmodel = Sequential()\n",
    "\tmodel.add(Dense(60, input_dim=60, kernel_initializer='normal', activation='relu'))\n",
    "\tmodel.add(Dense(1, kernel_initializer='normal', activation='sigmoid'))\n",
    "\n",
    "\t#b\n",
    "\t# Compile model\n",
    "\tmodel.compile(loss='binary_crossentropy', optimizer='adam', metrics=['accuracy'])\n",
    "\n",
    "\treturn model"
   ]
  },
  {
   "cell_type": "markdown",
   "metadata": {
    "id": "turVjiiWMR_4"
   },
   "source": [
    "### 4. Evaluate model\n",
    "\n",
    "Evaluate the model using stratified cross validation in the scikit-learn framework. Number of splits should be 10."
   ]
  },
  {
   "cell_type": "code",
   "execution_count": 8,
   "metadata": {
    "colab": {
     "base_uri": "https://localhost:8080/"
    },
    "executionInfo": {
     "elapsed": 99919,
     "status": "ok",
     "timestamp": 1690802367551,
     "user": {
      "displayName": "Amanda Hachem",
      "userId": "07936363838080570525"
     },
     "user_tz": -180
    },
    "id": "JND-sahHMRNY",
    "outputId": "ec9e7d01-dcba-42b9-fca4-0e5617d57ce7"
   },
   "outputs": [
    {
     "name": "stderr",
     "output_type": "stream",
     "text": [
      "<ipython-input-8-03b8c1483a20>:6: DeprecationWarning: KerasClassifier is deprecated, use Sci-Keras (https://github.com/adriangb/scikeras) instead. See https://www.adriangb.com/scikeras/stable/migration.html for help migrating.\n",
      "  estimator = KerasClassifier(build_fn=create_baseline, epochs=100, batch_size=5, verbose=0)\n"
     ]
    },
    {
     "name": "stdout",
     "output_type": "stream",
     "text": [
      "Baseline: 80.74% (6.83%)\n"
     ]
    }
   ],
   "source": [
    "from sklearn.model_selection import cross_val_score\n",
    "from sklearn.model_selection import StratifiedKFold\n",
    "from tensorflow.keras.wrappers.scikit_learn import KerasClassifier\n",
    "\n",
    "# evaluate model with dataset\n",
    "estimator = KerasClassifier(build_fn=create_baseline, epochs=100, batch_size=5, verbose=0)\n",
    "kfold = StratifiedKFold(n_splits=10, shuffle=True, random_state=15)\n",
    "results = cross_val_score(estimator, X, encoded_Y, cv=kfold)\n",
    "print(\"Baseline: %.2f%% (%.2f%%)\" % (results.mean()*100, results.std()*100))"
   ]
  },
  {
   "cell_type": "markdown",
   "metadata": {
    "id": "_oKP2BnHM4KI"
   },
   "source": [
    "## Apply Standardization on Dataset\n",
    "\n",
    "An effective data preparation scheme for tabular data when building neural network models is **standardization**. This is where the data is rescaled such that the mean value for each attribute is 0 and the standard deviation is 1. This preserves Gaussian and Gaussian-like distributions whilst normalizing the central tendencies for each attribute.\n",
    "\n",
    "We can use scikit-learn to perform the standardization of our Sonar dataset using the `StandardScaler` class.\n",
    "\n",
    "## Create a pipeline\n",
    "\n",
    "The Scikit-learn pipeline is a wrapper that executes one or more models within a pass of the cross-validation procedure. Here, we can define a pipeline with the StandardScaler followed by our neural network model."
   ]
  },
  {
   "cell_type": "code",
   "execution_count": 9,
   "metadata": {
    "colab": {
     "base_uri": "https://localhost:8080/"
    },
    "executionInfo": {
     "elapsed": 10,
     "status": "ok",
     "timestamp": 1690802367552,
     "user": {
      "displayName": "Amanda Hachem",
      "userId": "07936363838080570525"
     },
     "user_tz": -180
    },
    "id": "xIsFIrnjM86W",
    "outputId": "194ec4c8-b5fb-4760-b9ba-e246f1d850a1"
   },
   "outputs": [
    {
     "name": "stderr",
     "output_type": "stream",
     "text": [
      "<ipython-input-9-6b90c84b7ef0>:7: DeprecationWarning: KerasClassifier is deprecated, use Sci-Keras (https://github.com/adriangb/scikeras) instead. See https://www.adriangb.com/scikeras/stable/migration.html for help migrating.\n",
      "  estimators.append(('mlp', KerasClassifier(build_fn=create_baseline, epochs=100, batch_size=5, verbose=0)))\n"
     ]
    }
   ],
   "source": [
    "from sklearn.preprocessing import StandardScaler\n",
    "from sklearn.pipeline import Pipeline\n",
    "\n",
    "# evaluate baseline model with standardized dataset\n",
    "estimators = []\n",
    "estimators.append(('standardize', StandardScaler()))\n",
    "estimators.append(('mlp', KerasClassifier(build_fn=create_baseline, epochs=100, batch_size=5, verbose=0)))\n",
    "\n",
    "pipeline = Pipeline(estimators)"
   ]
  },
  {
   "cell_type": "markdown",
   "metadata": {
    "id": "nZlS0W8cNeYx"
   },
   "source": [
    "### Evaluate model"
   ]
  },
  {
   "cell_type": "code",
   "execution_count": 10,
   "metadata": {
    "colab": {
     "base_uri": "https://localhost:8080/"
    },
    "executionInfo": {
     "elapsed": 87247,
     "status": "ok",
     "timestamp": 1690802454794,
     "user": {
      "displayName": "Amanda Hachem",
      "userId": "07936363838080570525"
     },
     "user_tz": -180
    },
    "id": "mbodsmh2Ngbt",
    "outputId": "dbab2f2f-bd4e-4926-8f55-b47d05b0aa77"
   },
   "outputs": [
    {
     "name": "stdout",
     "output_type": "stream",
     "text": [
      "Standardized: 84.62% (6.34%)\n"
     ]
    }
   ],
   "source": [
    "kfold = StratifiedKFold(n_splits=10, shuffle=True, random_state=15)\n",
    "results = cross_val_score(pipeline, X, encoded_Y, cv=kfold)\n",
    "print(\"Standardized: %.2f%% (%.2f%%)\" % (results.mean()*100, results.std()*100))"
   ]
  }
 ],
 "metadata": {
  "colab": {
   "provenance": [
    {
     "file_id": "1uvXhQ_NFK4BX8SV6v2yILAUWpgO9GaLA",
     "timestamp": 1690799073817
    }
   ]
  },
  "kernelspec": {
   "display_name": "Python 3 (ipykernel)",
   "language": "python",
   "name": "python3"
  },
  "language_info": {
   "codemirror_mode": {
    "name": "ipython",
    "version": 3
   },
   "file_extension": ".py",
   "mimetype": "text/x-python",
   "name": "python",
   "nbconvert_exporter": "python",
   "pygments_lexer": "ipython3",
   "version": "3.11.5"
  }
 },
 "nbformat": 4,
 "nbformat_minor": 1
}
