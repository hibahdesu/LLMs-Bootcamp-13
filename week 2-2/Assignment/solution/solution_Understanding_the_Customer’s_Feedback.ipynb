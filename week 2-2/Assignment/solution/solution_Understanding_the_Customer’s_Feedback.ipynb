{
  "nbformat": 4,
  "nbformat_minor": 0,
  "metadata": {
    "colab": {
      "provenance": []
    },
    "kernelspec": {
      "name": "python3",
      "display_name": "Python 3"
    }
  },
  "cells": [
    {
      "cell_type": "markdown",
      "metadata": {
        "id": "Q24hSxA4tA6n"
      },
      "source": [
        "# Text classification: Understanding the Customer's Feedback\n",
        "\n",
        "---\n",
        "\n",
        "Text classification is one of the important tasks of text mining\n",
        "\n",
        "![alt text](http://res.cloudinary.com/dyd911kmh/image/upload/f_auto,q_auto:best/v1535125878/NLTK3_zwbdgg.png)\n",
        "\n",
        "In this notebook, we will perform Sentiment Analysis on IMDB movies reviews. Sentiment Analysis is the art of extracting people's opinion from digital text. We will use a regression model from Scikit-Learn able to predict the sentiment given a movie review.\n",
        "\n",
        "We will use [the IMDB movie review dataset](http://ai.stanford.edu/~amaas/data/sentiment/), which consists of 50,000 movies review (50% are positive, 50% are negative)."
      ]
    },
    {
      "cell_type": "markdown",
      "metadata": {
        "id": "0O1jA8byt4bV"
      },
      "source": [
        "The libraries needed in this exercise are:\n",
        "* [Numpy](http://www.numpy.org/) — a package for scientific computing.\n",
        "* [Pandas](https://pandas.pydata.org/) — a library providing high-performance, easy-to-use data structures and data analysis tools for the Python\n",
        "* [Matplotlib](https://matplotlib.org/) — a package for plotting & visualizations.\n",
        "* [scikit-learn](http://scikit-learn.org/stable/index.html) — a tool for data mining and data analysis.\n",
        "* [NLTK](http://www.nltk.org/) — a platform to work with natural language."
      ]
    },
    {
      "cell_type": "markdown",
      "metadata": {
        "id": "844CS6rf57X7"
      },
      "source": [
        "##Loading the data"
      ]
    },
    {
      "cell_type": "markdown",
      "metadata": {
        "id": "QAt6rj955meo"
      },
      "source": [
        "### Importing the libraries and necessary dictionaries"
      ]
    },
    {
      "cell_type": "code",
      "metadata": {
        "id": "RRN4WqkltlB5"
      },
      "source": [
        "import numpy as np\n",
        "import pandas as pd\n",
        "import nltk\n",
        "import matplotlib.pyplot as plt\n",
        "from tensorflow import keras\n",
        "\n",
        "# download Punkt Sentence Tokenizer\n",
        "nltk.download('punkt')\n",
        "# download stopwords\n",
        "nltk.download('stopwords')"
      ],
      "execution_count": null,
      "outputs": []
    },
    {
      "cell_type": "markdown",
      "metadata": {
        "id": "7duM74C95rhN"
      },
      "source": [
        "### Loading the dataset in our directory"
      ]
    },
    {
      "cell_type": "code",
      "metadata": {
        "id": "c48UYWDcg3hR"
      },
      "source": [
        "# download IMDB dataset\n",
        "!wget \"https://raw.githubusercontent.com/javaidnabi31/Word-Embeddding-Sentiment-Classification/master/movie_data.csv\" -O \"movie_data.csv\"\n",
        "\n",
        "# list files in current directory\n",
        "!ls -lah"
      ],
      "execution_count": null,
      "outputs": []
    },
    {
      "cell_type": "markdown",
      "metadata": {
        "id": "77spW4xt5y4R"
      },
      "source": [
        "###Reading the dataset file and getting info on it\n",
        "**Question 1:** Use pandas to read the csv file and display the first 5 rows"
      ]
    },
    {
      "cell_type": "code",
      "metadata": {
        "id": "R0A5QhDlteWj",
        "colab": {
          "base_uri": "https://localhost:8080/",
          "height": 206
        },
        "outputId": "60c5aa42-ab64-474a-8789-b9862fae3553"
      },
      "source": [
        "# path to IMDB dataseet\n",
        "path = 'movie_data.csv'\n",
        "\n",
        "# read file (dataset) into our program using pandas\n",
        "data = pd.read_csv(path)\n",
        "\n",
        "# display first 5 rows\n",
        "data.head()"
      ],
      "execution_count": 5,
      "outputs": [
        {
          "output_type": "execute_result",
          "data": {
            "text/plain": [
              "                                              review  sentiment\n",
              "0  I went and saw this movie last night after bei...          1\n",
              "1  Actor turned director Bill Paxton follows up h...          1\n",
              "2  As a recreational golfer with some knowledge o...          1\n",
              "3  I saw this film in a sneak preview, and it is ...          1\n",
              "4  Bill Paxton has taken the true story of the 19...          1"
            ],
            "text/html": [
              "\n",
              "  <div id=\"df-7df9f55c-f50e-4dd3-b34f-54e712ea7b99\" class=\"colab-df-container\">\n",
              "    <div>\n",
              "<style scoped>\n",
              "    .dataframe tbody tr th:only-of-type {\n",
              "        vertical-align: middle;\n",
              "    }\n",
              "\n",
              "    .dataframe tbody tr th {\n",
              "        vertical-align: top;\n",
              "    }\n",
              "\n",
              "    .dataframe thead th {\n",
              "        text-align: right;\n",
              "    }\n",
              "</style>\n",
              "<table border=\"1\" class=\"dataframe\">\n",
              "  <thead>\n",
              "    <tr style=\"text-align: right;\">\n",
              "      <th></th>\n",
              "      <th>review</th>\n",
              "      <th>sentiment</th>\n",
              "    </tr>\n",
              "  </thead>\n",
              "  <tbody>\n",
              "    <tr>\n",
              "      <th>0</th>\n",
              "      <td>I went and saw this movie last night after bei...</td>\n",
              "      <td>1</td>\n",
              "    </tr>\n",
              "    <tr>\n",
              "      <th>1</th>\n",
              "      <td>Actor turned director Bill Paxton follows up h...</td>\n",
              "      <td>1</td>\n",
              "    </tr>\n",
              "    <tr>\n",
              "      <th>2</th>\n",
              "      <td>As a recreational golfer with some knowledge o...</td>\n",
              "      <td>1</td>\n",
              "    </tr>\n",
              "    <tr>\n",
              "      <th>3</th>\n",
              "      <td>I saw this film in a sneak preview, and it is ...</td>\n",
              "      <td>1</td>\n",
              "    </tr>\n",
              "    <tr>\n",
              "      <th>4</th>\n",
              "      <td>Bill Paxton has taken the true story of the 19...</td>\n",
              "      <td>1</td>\n",
              "    </tr>\n",
              "  </tbody>\n",
              "</table>\n",
              "</div>\n",
              "    <div class=\"colab-df-buttons\">\n",
              "\n",
              "  <div class=\"colab-df-container\">\n",
              "    <button class=\"colab-df-convert\" onclick=\"convertToInteractive('df-7df9f55c-f50e-4dd3-b34f-54e712ea7b99')\"\n",
              "            title=\"Convert this dataframe to an interactive table.\"\n",
              "            style=\"display:none;\">\n",
              "\n",
              "  <svg xmlns=\"http://www.w3.org/2000/svg\" height=\"24px\" viewBox=\"0 -960 960 960\">\n",
              "    <path d=\"M120-120v-720h720v720H120Zm60-500h600v-160H180v160Zm220 220h160v-160H400v160Zm0 220h160v-160H400v160ZM180-400h160v-160H180v160Zm440 0h160v-160H620v160ZM180-180h160v-160H180v160Zm440 0h160v-160H620v160Z\"/>\n",
              "  </svg>\n",
              "    </button>\n",
              "\n",
              "  <style>\n",
              "    .colab-df-container {\n",
              "      display:flex;\n",
              "      gap: 12px;\n",
              "    }\n",
              "\n",
              "    .colab-df-convert {\n",
              "      background-color: #E8F0FE;\n",
              "      border: none;\n",
              "      border-radius: 50%;\n",
              "      cursor: pointer;\n",
              "      display: none;\n",
              "      fill: #1967D2;\n",
              "      height: 32px;\n",
              "      padding: 0 0 0 0;\n",
              "      width: 32px;\n",
              "    }\n",
              "\n",
              "    .colab-df-convert:hover {\n",
              "      background-color: #E2EBFA;\n",
              "      box-shadow: 0px 1px 2px rgba(60, 64, 67, 0.3), 0px 1px 3px 1px rgba(60, 64, 67, 0.15);\n",
              "      fill: #174EA6;\n",
              "    }\n",
              "\n",
              "    .colab-df-buttons div {\n",
              "      margin-bottom: 4px;\n",
              "    }\n",
              "\n",
              "    [theme=dark] .colab-df-convert {\n",
              "      background-color: #3B4455;\n",
              "      fill: #D2E3FC;\n",
              "    }\n",
              "\n",
              "    [theme=dark] .colab-df-convert:hover {\n",
              "      background-color: #434B5C;\n",
              "      box-shadow: 0px 1px 3px 1px rgba(0, 0, 0, 0.15);\n",
              "      filter: drop-shadow(0px 1px 2px rgba(0, 0, 0, 0.3));\n",
              "      fill: #FFFFFF;\n",
              "    }\n",
              "  </style>\n",
              "\n",
              "    <script>\n",
              "      const buttonEl =\n",
              "        document.querySelector('#df-7df9f55c-f50e-4dd3-b34f-54e712ea7b99 button.colab-df-convert');\n",
              "      buttonEl.style.display =\n",
              "        google.colab.kernel.accessAllowed ? 'block' : 'none';\n",
              "\n",
              "      async function convertToInteractive(key) {\n",
              "        const element = document.querySelector('#df-7df9f55c-f50e-4dd3-b34f-54e712ea7b99');\n",
              "        const dataTable =\n",
              "          await google.colab.kernel.invokeFunction('convertToInteractive',\n",
              "                                                    [key], {});\n",
              "        if (!dataTable) return;\n",
              "\n",
              "        const docLinkHtml = 'Like what you see? Visit the ' +\n",
              "          '<a target=\"_blank\" href=https://colab.research.google.com/notebooks/data_table.ipynb>data table notebook</a>'\n",
              "          + ' to learn more about interactive tables.';\n",
              "        element.innerHTML = '';\n",
              "        dataTable['output_type'] = 'display_data';\n",
              "        await google.colab.output.renderOutput(dataTable, element);\n",
              "        const docLink = document.createElement('div');\n",
              "        docLink.innerHTML = docLinkHtml;\n",
              "        element.appendChild(docLink);\n",
              "      }\n",
              "    </script>\n",
              "  </div>\n",
              "\n",
              "\n",
              "<div id=\"df-4c0892dd-b659-40d8-b5f5-0d485d499de1\">\n",
              "  <button class=\"colab-df-quickchart\" onclick=\"quickchart('df-4c0892dd-b659-40d8-b5f5-0d485d499de1')\"\n",
              "            title=\"Suggest charts\"\n",
              "            style=\"display:none;\">\n",
              "\n",
              "<svg xmlns=\"http://www.w3.org/2000/svg\" height=\"24px\"viewBox=\"0 0 24 24\"\n",
              "     width=\"24px\">\n",
              "    <g>\n",
              "        <path d=\"M19 3H5c-1.1 0-2 .9-2 2v14c0 1.1.9 2 2 2h14c1.1 0 2-.9 2-2V5c0-1.1-.9-2-2-2zM9 17H7v-7h2v7zm4 0h-2V7h2v10zm4 0h-2v-4h2v4z\"/>\n",
              "    </g>\n",
              "</svg>\n",
              "  </button>\n",
              "\n",
              "<style>\n",
              "  .colab-df-quickchart {\n",
              "      --bg-color: #E8F0FE;\n",
              "      --fill-color: #1967D2;\n",
              "      --hover-bg-color: #E2EBFA;\n",
              "      --hover-fill-color: #174EA6;\n",
              "      --disabled-fill-color: #AAA;\n",
              "      --disabled-bg-color: #DDD;\n",
              "  }\n",
              "\n",
              "  [theme=dark] .colab-df-quickchart {\n",
              "      --bg-color: #3B4455;\n",
              "      --fill-color: #D2E3FC;\n",
              "      --hover-bg-color: #434B5C;\n",
              "      --hover-fill-color: #FFFFFF;\n",
              "      --disabled-bg-color: #3B4455;\n",
              "      --disabled-fill-color: #666;\n",
              "  }\n",
              "\n",
              "  .colab-df-quickchart {\n",
              "    background-color: var(--bg-color);\n",
              "    border: none;\n",
              "    border-radius: 50%;\n",
              "    cursor: pointer;\n",
              "    display: none;\n",
              "    fill: var(--fill-color);\n",
              "    height: 32px;\n",
              "    padding: 0;\n",
              "    width: 32px;\n",
              "  }\n",
              "\n",
              "  .colab-df-quickchart:hover {\n",
              "    background-color: var(--hover-bg-color);\n",
              "    box-shadow: 0 1px 2px rgba(60, 64, 67, 0.3), 0 1px 3px 1px rgba(60, 64, 67, 0.15);\n",
              "    fill: var(--button-hover-fill-color);\n",
              "  }\n",
              "\n",
              "  .colab-df-quickchart-complete:disabled,\n",
              "  .colab-df-quickchart-complete:disabled:hover {\n",
              "    background-color: var(--disabled-bg-color);\n",
              "    fill: var(--disabled-fill-color);\n",
              "    box-shadow: none;\n",
              "  }\n",
              "\n",
              "  .colab-df-spinner {\n",
              "    border: 2px solid var(--fill-color);\n",
              "    border-color: transparent;\n",
              "    border-bottom-color: var(--fill-color);\n",
              "    animation:\n",
              "      spin 1s steps(1) infinite;\n",
              "  }\n",
              "\n",
              "  @keyframes spin {\n",
              "    0% {\n",
              "      border-color: transparent;\n",
              "      border-bottom-color: var(--fill-color);\n",
              "      border-left-color: var(--fill-color);\n",
              "    }\n",
              "    20% {\n",
              "      border-color: transparent;\n",
              "      border-left-color: var(--fill-color);\n",
              "      border-top-color: var(--fill-color);\n",
              "    }\n",
              "    30% {\n",
              "      border-color: transparent;\n",
              "      border-left-color: var(--fill-color);\n",
              "      border-top-color: var(--fill-color);\n",
              "      border-right-color: var(--fill-color);\n",
              "    }\n",
              "    40% {\n",
              "      border-color: transparent;\n",
              "      border-right-color: var(--fill-color);\n",
              "      border-top-color: var(--fill-color);\n",
              "    }\n",
              "    60% {\n",
              "      border-color: transparent;\n",
              "      border-right-color: var(--fill-color);\n",
              "    }\n",
              "    80% {\n",
              "      border-color: transparent;\n",
              "      border-right-color: var(--fill-color);\n",
              "      border-bottom-color: var(--fill-color);\n",
              "    }\n",
              "    90% {\n",
              "      border-color: transparent;\n",
              "      border-bottom-color: var(--fill-color);\n",
              "    }\n",
              "  }\n",
              "</style>\n",
              "\n",
              "  <script>\n",
              "    async function quickchart(key) {\n",
              "      const quickchartButtonEl =\n",
              "        document.querySelector('#' + key + ' button');\n",
              "      quickchartButtonEl.disabled = true;  // To prevent multiple clicks.\n",
              "      quickchartButtonEl.classList.add('colab-df-spinner');\n",
              "      try {\n",
              "        const charts = await google.colab.kernel.invokeFunction(\n",
              "            'suggestCharts', [key], {});\n",
              "      } catch (error) {\n",
              "        console.error('Error during call to suggestCharts:', error);\n",
              "      }\n",
              "      quickchartButtonEl.classList.remove('colab-df-spinner');\n",
              "      quickchartButtonEl.classList.add('colab-df-quickchart-complete');\n",
              "    }\n",
              "    (() => {\n",
              "      let quickchartButtonEl =\n",
              "        document.querySelector('#df-4c0892dd-b659-40d8-b5f5-0d485d499de1 button');\n",
              "      quickchartButtonEl.style.display =\n",
              "        google.colab.kernel.accessAllowed ? 'block' : 'none';\n",
              "    })();\n",
              "  </script>\n",
              "</div>\n",
              "\n",
              "    </div>\n",
              "  </div>\n"
            ]
          },
          "metadata": {},
          "execution_count": 5
        }
      ]
    },
    {
      "cell_type": "markdown",
      "metadata": {
        "id": "t8oHmgm-6qK2"
      },
      "source": [
        "Getting info on our dataset"
      ]
    },
    {
      "cell_type": "code",
      "metadata": {
        "id": "uQVx6AhqhAiB",
        "colab": {
          "base_uri": "https://localhost:8080/"
        },
        "outputId": "03e7cc89-1d22-48cf-e21e-0bb28366e775"
      },
      "source": [
        "#Seeing the info of our dataset\n",
        "data.info()\n",
        "#As we can see, there are about 50000 from 0 to 49999\n",
        "#There are 2 columns one int64 and one object"
      ],
      "execution_count": 6,
      "outputs": [
        {
          "output_type": "stream",
          "name": "stdout",
          "text": [
            "<class 'pandas.core.frame.DataFrame'>\n",
            "RangeIndex: 50000 entries, 0 to 49999\n",
            "Data columns (total 2 columns):\n",
            " #   Column     Non-Null Count  Dtype \n",
            "---  ------     --------------  ----- \n",
            " 0   review     50000 non-null  object\n",
            " 1   sentiment  50000 non-null  int64 \n",
            "dtypes: int64(1), object(1)\n",
            "memory usage: 781.4+ KB\n"
          ]
        }
      ]
    },
    {
      "cell_type": "markdown",
      "metadata": {
        "id": "cPbcG_8k54JZ"
      },
      "source": [
        "A balanced dataset in sentiment analysis is a dataset which holds an equal amount of positive sentiment data and negative sentiment data, meaning 50% of the data is positive and 50% is negative"
      ]
    },
    {
      "cell_type": "markdown",
      "source": [
        "**Question 2:** Check if dataset is balanced (number of positive sentiment = number of negative sentiment) by plotting the different classes"
      ],
      "metadata": {
        "id": "rgvEJ3BSK_7e"
      }
    },
    {
      "cell_type": "code",
      "metadata": {
        "id": "q12nMYY5vPhn",
        "colab": {
          "base_uri": "https://localhost:8080/"
        },
        "outputId": "34588a27-95fd-4b92-fbf4-89c101389811"
      },
      "source": [
        "#To check if the data is balanced or not\n",
        "data['sentiment'].value_counts()\n",
        "#We can see that the data is balanced we have the same values in both of them which is a good thing"
      ],
      "execution_count": 9,
      "outputs": [
        {
          "output_type": "execute_result",
          "data": {
            "text/plain": [
              "1    25000\n",
              "0    25000\n",
              "Name: sentiment, dtype: int64"
            ]
          },
          "metadata": {},
          "execution_count": 9
        }
      ]
    },
    {
      "cell_type": "code",
      "source": [
        "values = data['sentiment'].value_counts()\n",
        "# Creating a Bar plot\n",
        "plt.bar(values.index, values.values)\n",
        "\n",
        "# Adding labels and title\n",
        "plt.xlabel('Sentiment')\n",
        "plt.ylabel('Count')\n",
        "plt.title('Bar Plot')\n",
        "\n",
        "# Displaying the bar plot\n",
        "plt.show()"
      ],
      "metadata": {
        "colab": {
          "base_uri": "https://localhost:8080/",
          "height": 472
        },
        "id": "uvKU2wpyPQPY",
        "outputId": "cbdfb193-b8e3-4e16-eeee-66f20cc0adf8"
      },
      "execution_count": 11,
      "outputs": [
        {
          "output_type": "display_data",
          "data": {
            "text/plain": [
              "<Figure size 640x480 with 1 Axes>"
            ],
            "image/png": "[encoded data removed]"
          },
          "metadata": {}
        }
      ]
    },
    {
      "cell_type": "code",
      "source": [
        "# Creating a Pie plot\n",
        "plt.pie(values, labels=values.index, autopct='%1.1f%%')\n",
        "\n",
        "# Adding title\n",
        "plt.title('Pie Plot')\n",
        "\n",
        "# Displaying the pie plot\n",
        "plt.show()"
      ],
      "metadata": {
        "colab": {
          "base_uri": "https://localhost:8080/",
          "height": 428
        },
        "id": "JsUAvcpbPzhM",
        "outputId": "a36d749c-04b9-456e-9157-4820469cd49b"
      },
      "execution_count": 12,
      "outputs": [
        {
          "output_type": "display_data",
          "data": {
            "text/plain": [
              "<Figure size 640x480 with 1 Axes>"
            ],
            "image/png": "[encoded data removed]"
          },
          "metadata": {}
        }
      ]
    },
    {
      "cell_type": "markdown",
      "metadata": {
        "id": "R4uAuueIwKkS"
      },
      "source": [
        "## Text cleaning"
      ]
    },
    {
      "cell_type": "code",
      "metadata": {
        "id": "qCxs0pSovUOa",
        "colab": {
          "base_uri": "https://localhost:8080/"
        },
        "outputId": "4a29d9c6-9ad5-4ab0-fff3-25219b227da3"
      },
      "source": [
        "print(data.review[10])"
      ],
      "execution_count": 13,
      "outputs": [
        {
          "output_type": "stream",
          "name": "stdout",
          "text": [
            "I loved this movie from beginning to end.I am a musician and i let drugs get in the way of my some of the things i used to love(skateboarding,drawing) but my friends were always there for me.Music was like my rehab,life support,and my drug.It changed my life.I can totally relate to this movie and i wish there was more i could say.This movie left me speechless to be honest.I just saw it on the Ifc channel.I usually hate having satellite but this was a perk of having satellite.The ifc channel shows some really great movies and without it I never would have found this movie.Im not a big fan of the international films because i find that a lot of the don't do a very good job on translating lines.I mean the obvious language barrier leaves you to just believe thats what they are saying but its not that big of a deal i guess.I almost never got to see this AMAZING movie.Good thing i stayed up for it instead of going to bed..well earlier than usual.lol.I hope you all enjoy the hell of this movie and Love this movie just as much as i did.I wish i could type this all in caps but its again the rules i guess thats shouting but it would really show my excitement for the film.I Give It Three Thumbs Way Up!<br /><br />This Movie Blew ME AWAY!\n"
          ]
        }
      ]
    },
    {
      "cell_type": "markdown",
      "metadata": {
        "id": "lAvczEBgxUWl"
      },
      "source": [
        "**Question 3:** Let's define a function that would clean each movie review (sentence)"
      ]
    },
    {
      "cell_type": "code",
      "metadata": {
        "id": "eKKIsHqZwRJR"
      },
      "source": [
        "import re\n",
        "from nltk.corpus import stopwords\n",
        "from nltk.tokenize import word_tokenize\n",
        "from nltk.stem.porter import PorterStemmer\n",
        "\n",
        "english_stopwords = stopwords.words('english')\n",
        "stemmer = PorterStemmer()\n",
        "\n",
        "# define cleaning function\n",
        "def clean_review(text):\n",
        "  #Making the text lower, with lower cases\n",
        "  text = text.lower()\n",
        "\n",
        "  text = re.sub(r'[^a-z]', '', text)\n",
        "\n",
        "  #Now, tokenizing the text, and creating tokens\n",
        "  tokens = word_tokenize(text)\n",
        "\n",
        "  #Creating a for loop to stem the words in the tokens\n",
        "  stemmed = [stemmer.stem(word) for word in tokens]\n",
        "\n",
        "  #Splitting the text\n",
        "  split = text.split()\n",
        "\n",
        "  #Joining the text\n",
        "  text = ''.join(stemmed)\n",
        "\n",
        "  text = ' '.join([word for word in text.split() if word not in english_stopwords])\n",
        "\n",
        "  #Returning the text in the end\n",
        "  return text"
      ],
      "execution_count": 21,
      "outputs": []
    },
    {
      "cell_type": "markdown",
      "metadata": {
        "id": "-NIqPBfK67Zc"
      },
      "source": [
        "**Question 4 :** Try it out on an instance of the dataset then on the entire dataset."
      ]
    },
    {
      "cell_type": "code",
      "source": [
        "#Let's see the difference now\n",
        "\n",
        "#Seeing the data before using the function\n",
        "data['review'][5]"
      ],
      "metadata": {
        "colab": {
          "base_uri": "https://localhost:8080/",
          "height": 157
        },
        "id": "FGhKRlsmdT1e",
        "outputId": "f58d565d-ce45-4a2e-fcb0-7e632e772636"
      },
      "execution_count": 24,
      "outputs": [
        {
          "output_type": "execute_result",
          "data": {
            "text/plain": [
              "'I saw this film on September 1st, 2005 in Indianapolis. I am one of the judges for the Heartland Film Festival that screens films for their Truly Moving Picture Award. A Truly Moving Picture \"...explores the human journey by artistically expressing hope and respect for the positive values of life.\" Heartland gave that award to this film.<br /><br />This is a story of golf in the early part of the 20th century. At that time, it was the game of upper class and rich \"gentlemen\", and working people could only participate by being caddies at country clubs. With this backdrop, this based-on-a-true-story unfolds with a young, working class boy who takes on the golf establishment and the greatest golfer in the world, Harry Vardon.<br /><br />And the story is inspirational. Against all odds, Francis Ouimet (played by Shia LaBeouf of \"Holes\") gets to compete against the greatest golfers of the U.S. and Great Britain at the 1913 U.S. Open. Francis is ill-prepared, and has a child for a caddy. (The caddy is hilarious and motivational and steals every scene he appears in.) But despite these handicaps, Francis displays courage, spirit, heroism, and humility at this world class event.<br /><br />And, we learn a lot about the early years of golf; for example, the use of small wooden clubs, the layout of the short holes, the manual scoreboard, the golfers swinging with pipes in their mouths, the terrible conditions of the greens and fairways, and the play not being canceled even in torrential rain.<br /><br />This film has stunning cinematography and art direction and editing. And with no big movie stars, the story is somehow more believable.<br /><br />This adds to the inventory of great sports movies in the vein of \"Miracle\" and \"Remember the Titans.\"<br /><br />FYI - There is a Truly Moving Pictures web site where there is a listing of past winners going back 70 years.'"
            ],
            "application/vnd.google.colaboratory.intrinsic+json": {
              "type": "string"
            }
          },
          "metadata": {},
          "execution_count": 24
        }
      ]
    },
    {
      "cell_type": "code",
      "metadata": {
        "id": "W4Bn3r1wzvwR",
        "colab": {
          "base_uri": "https://localhost:8080/",
          "height": 157
        },
        "outputId": "efd4cd60-6e46-479d-e9af-2a7ea99f910a"
      },
      "source": [
        "#Seeing the data after using the function\n",
        "clean_review(data['review'][5])\n",
        "#We can notice the difference now"
      ],
      "execution_count": 25,
      "outputs": [
        {
          "output_type": "execute_result",
          "data": {
            "text/plain": [
              "'isawthisfilmonseptemberstinindianapolisiamoneofthejudgesfortheheartlandfilmfestivalthatscreensfilmsfortheirtrulymovingpictureawardatrulymovingpictureexploresthehumanjourneybyartisticallyexpressinghopeandrespectforthepositivevaluesoflifeheartlandgavethatawardtothisfilmbrbrthisisastoryofgolfintheearlypartofthethcenturyatthattimeitwasthegameofupperclassandrichgentlemenandworkingpeoplecouldonlyparticipatebybeingcaddiesatcountryclubswiththisbackdropthisbasedonatruestoryunfoldswithayoungworkingclassboywhotakesonthegolfestablishmentandthegreatestgolferintheworldharryvardonbrbrandthestoryisinspirationalagainstalloddsfrancisouimetplayedbyshialabeoufofholesgetstocompeteagainstthegreatestgolfersoftheusandgreatbritainattheusopenfrancisisillpreparedandhasachildforacaddythecaddyishilariousandmotivationalandstealseverysceneheappearsinbutdespitethesehandicapsfrancisdisplayscouragespiritheroismandhumilityatthisworldclasseventbrbrandwelearnalotabouttheearlyyearsofgolfforexampletheuseofsmallwoodenclubsthelayoutoftheshortholesthemanualscoreboardthegolfersswingingwithpipesintheirmouthstheterribleconditionsofthegreensandfairwaysandtheplaynotbeingcanceledevenintorrentialrainbrbrthisfilmhasstunningcinematographyandartdirectionandeditingandwithnobigmoviestarsthestoryissomehowmorebelievablebrbrthisaddstotheinventoryofgreatsportsmoviesintheveinofmiracleandrememberthetitansbrbrfyithereisatrulymovingpictureswebsitewherethereisalistingofpastwinnersgoingbackyear'"
            ],
            "application/vnd.google.colaboratory.intrinsic+json": {
              "type": "string"
            }
          },
          "metadata": {},
          "execution_count": 25
        }
      ]
    },
    {
      "cell_type": "markdown",
      "metadata": {
        "id": "24Ycze9C6_yb"
      },
      "source": [
        "And now clean the entire dataset reviews"
      ]
    },
    {
      "cell_type": "code",
      "metadata": {
        "id": "6kHxWkPTz5eA",
        "colab": {
          "base_uri": "https://localhost:8080/",
          "height": 206
        },
        "outputId": "4ff64acb-2680-4911-bfbe-8fd6adf65b46"
      },
      "source": [
        "# apply to all dataset\n",
        "data['clean_review'] = data['review'].apply(clean_review)\n",
        "data.head()"
      ],
      "execution_count": 26,
      "outputs": [
        {
          "output_type": "execute_result",
          "data": {
            "text/plain": [
              "                                              review  sentiment  \\\n",
              "0  I went and saw this movie last night after bei...          1   \n",
              "1  Actor turned director Bill Paxton follows up h...          1   \n",
              "2  As a recreational golfer with some knowledge o...          1   \n",
              "3  I saw this film in a sneak preview, and it is ...          1   \n",
              "4  Bill Paxton has taken the true story of the 19...          1   \n",
              "\n",
              "                                        clean_review  \n",
              "0  iwentandsawthismovielastnightafterbeingcoaxedt...  \n",
              "1  actorturneddirectorbillpaxtonfollowsuphispromi...  \n",
              "2  asarecreationalgolferwithsomeknowledgeofthespo...  \n",
              "3  isawthisfilminasneakpreviewanditisdelightfulth...  \n",
              "4  billpaxtonhastakenthetruestoryoftheusgolfopena...  "
            ],
            "text/html": [
              "\n",
              "  <div id=\"df-2f6779b6-8ded-4593-b2db-542d2be9e01f\" class=\"colab-df-container\">\n",
              "    <div>\n",
              "<style scoped>\n",
              "    .dataframe tbody tr th:only-of-type {\n",
              "        vertical-align: middle;\n",
              "    }\n",
              "\n",
              "    .dataframe tbody tr th {\n",
              "        vertical-align: top;\n",
              "    }\n",
              "\n",
              "    .dataframe thead th {\n",
              "        text-align: right;\n",
              "    }\n",
              "</style>\n",
              "<table border=\"1\" class=\"dataframe\">\n",
              "  <thead>\n",
              "    <tr style=\"text-align: right;\">\n",
              "      <th></th>\n",
              "      <th>review</th>\n",
              "      <th>sentiment</th>\n",
              "      <th>clean_review</th>\n",
              "    </tr>\n",
              "  </thead>\n",
              "  <tbody>\n",
              "    <tr>\n",
              "      <th>0</th>\n",
              "      <td>I went and saw this movie last night after bei...</td>\n",
              "      <td>1</td>\n",
              "      <td>iwentandsawthismovielastnightafterbeingcoaxedt...</td>\n",
              "    </tr>\n",
              "    <tr>\n",
              "      <th>1</th>\n",
              "      <td>Actor turned director Bill Paxton follows up h...</td>\n",
              "      <td>1</td>\n",
              "      <td>actorturneddirectorbillpaxtonfollowsuphispromi...</td>\n",
              "    </tr>\n",
              "    <tr>\n",
              "      <th>2</th>\n",
              "      <td>As a recreational golfer with some knowledge o...</td>\n",
              "      <td>1</td>\n",
              "      <td>asarecreationalgolferwithsomeknowledgeofthespo...</td>\n",
              "    </tr>\n",
              "    <tr>\n",
              "      <th>3</th>\n",
              "      <td>I saw this film in a sneak preview, and it is ...</td>\n",
              "      <td>1</td>\n",
              "      <td>isawthisfilminasneakpreviewanditisdelightfulth...</td>\n",
              "    </tr>\n",
              "    <tr>\n",
              "      <th>4</th>\n",
              "      <td>Bill Paxton has taken the true story of the 19...</td>\n",
              "      <td>1</td>\n",
              "      <td>billpaxtonhastakenthetruestoryoftheusgolfopena...</td>\n",
              "    </tr>\n",
              "  </tbody>\n",
              "</table>\n",
              "</div>\n",
              "    <div class=\"colab-df-buttons\">\n",
              "\n",
              "  <div class=\"colab-df-container\">\n",
              "    <button class=\"colab-df-convert\" onclick=\"convertToInteractive('df-2f6779b6-8ded-4593-b2db-542d2be9e01f')\"\n",
              "            title=\"Convert this dataframe to an interactive table.\"\n",
              "            style=\"display:none;\">\n",
              "\n",
              "  <svg xmlns=\"http://www.w3.org/2000/svg\" height=\"24px\" viewBox=\"0 -960 960 960\">\n",
              "    <path d=\"M120-120v-720h720v720H120Zm60-500h600v-160H180v160Zm220 220h160v-160H400v160Zm0 220h160v-160H400v160ZM180-400h160v-160H180v160Zm440 0h160v-160H620v160ZM180-180h160v-160H180v160Zm440 0h160v-160H620v160Z\"/>\n",
              "  </svg>\n",
              "    </button>\n",
              "\n",
              "  <style>\n",
              "    .colab-df-container {\n",
              "      display:flex;\n",
              "      gap: 12px;\n",
              "    }\n",
              "\n",
              "    .colab-df-convert {\n",
              "      background-color: #E8F0FE;\n",
              "      border: none;\n",
              "      border-radius: 50%;\n",
              "      cursor: pointer;\n",
              "      display: none;\n",
              "      fill: #1967D2;\n",
              "      height: 32px;\n",
              "      padding: 0 0 0 0;\n",
              "      width: 32px;\n",
              "    }\n",
              "\n",
              "    .colab-df-convert:hover {\n",
              "      background-color: #E2EBFA;\n",
              "      box-shadow: 0px 1px 2px rgba(60, 64, 67, 0.3), 0px 1px 3px 1px rgba(60, 64, 67, 0.15);\n",
              "      fill: #174EA6;\n",
              "    }\n",
              "\n",
              "    .colab-df-buttons div {\n",
              "      margin-bottom: 4px;\n",
              "    }\n",
              "\n",
              "    [theme=dark] .colab-df-convert {\n",
              "      background-color: #3B4455;\n",
              "      fill: #D2E3FC;\n",
              "    }\n",
              "\n",
              "    [theme=dark] .colab-df-convert:hover {\n",
              "      background-color: #434B5C;\n",
              "      box-shadow: 0px 1px 3px 1px rgba(0, 0, 0, 0.15);\n",
              "      filter: drop-shadow(0px 1px 2px rgba(0, 0, 0, 0.3));\n",
              "      fill: #FFFFFF;\n",
              "    }\n",
              "  </style>\n",
              "\n",
              "    <script>\n",
              "      const buttonEl =\n",
              "        document.querySelector('#df-2f6779b6-8ded-4593-b2db-542d2be9e01f button.colab-df-convert');\n",
              "      buttonEl.style.display =\n",
              "        google.colab.kernel.accessAllowed ? 'block' : 'none';\n",
              "\n",
              "      async function convertToInteractive(key) {\n",
              "        const element = document.querySelector('#df-2f6779b6-8ded-4593-b2db-542d2be9e01f');\n",
              "        const dataTable =\n",
              "          await google.colab.kernel.invokeFunction('convertToInteractive',\n",
              "                                                    [key], {});\n",
              "        if (!dataTable) return;\n",
              "\n",
              "        const docLinkHtml = 'Like what you see? Visit the ' +\n",
              "          '<a target=\"_blank\" href=https://colab.research.google.com/notebooks/data_table.ipynb>data table notebook</a>'\n",
              "          + ' to learn more about interactive tables.';\n",
              "        element.innerHTML = '';\n",
              "        dataTable['output_type'] = 'display_data';\n",
              "        await google.colab.output.renderOutput(dataTable, element);\n",
              "        const docLink = document.createElement('div');\n",
              "        docLink.innerHTML = docLinkHtml;\n",
              "        element.appendChild(docLink);\n",
              "      }\n",
              "    </script>\n",
              "  </div>\n",
              "\n",
              "\n",
              "<div id=\"df-13826642-13e7-4de7-ac2e-5317ef69a0e7\">\n",
              "  <button class=\"colab-df-quickchart\" onclick=\"quickchart('df-13826642-13e7-4de7-ac2e-5317ef69a0e7')\"\n",
              "            title=\"Suggest charts\"\n",
              "            style=\"display:none;\">\n",
              "\n",
              "<svg xmlns=\"http://www.w3.org/2000/svg\" height=\"24px\"viewBox=\"0 0 24 24\"\n",
              "     width=\"24px\">\n",
              "    <g>\n",
              "        <path d=\"M19 3H5c-1.1 0-2 .9-2 2v14c0 1.1.9 2 2 2h14c1.1 0 2-.9 2-2V5c0-1.1-.9-2-2-2zM9 17H7v-7h2v7zm4 0h-2V7h2v10zm4 0h-2v-4h2v4z\"/>\n",
              "    </g>\n",
              "</svg>\n",
              "  </button>\n",
              "\n",
              "<style>\n",
              "  .colab-df-quickchart {\n",
              "      --bg-color: #E8F0FE;\n",
              "      --fill-color: #1967D2;\n",
              "      --hover-bg-color: #E2EBFA;\n",
              "      --hover-fill-color: #174EA6;\n",
              "      --disabled-fill-color: #AAA;\n",
              "      --disabled-bg-color: #DDD;\n",
              "  }\n",
              "\n",
              "  [theme=dark] .colab-df-quickchart {\n",
              "      --bg-color: #3B4455;\n",
              "      --fill-color: #D2E3FC;\n",
              "      --hover-bg-color: #434B5C;\n",
              "      --hover-fill-color: #FFFFFF;\n",
              "      --disabled-bg-color: #3B4455;\n",
              "      --disabled-fill-color: #666;\n",
              "  }\n",
              "\n",
              "  .colab-df-quickchart {\n",
              "    background-color: var(--bg-color);\n",
              "    border: none;\n",
              "    border-radius: 50%;\n",
              "    cursor: pointer;\n",
              "    display: none;\n",
              "    fill: var(--fill-color);\n",
              "    height: 32px;\n",
              "    padding: 0;\n",
              "    width: 32px;\n",
              "  }\n",
              "\n",
              "  .colab-df-quickchart:hover {\n",
              "    background-color: var(--hover-bg-color);\n",
              "    box-shadow: 0 1px 2px rgba(60, 64, 67, 0.3), 0 1px 3px 1px rgba(60, 64, 67, 0.15);\n",
              "    fill: var(--button-hover-fill-color);\n",
              "  }\n",
              "\n",
              "  .colab-df-quickchart-complete:disabled,\n",
              "  .colab-df-quickchart-complete:disabled:hover {\n",
              "    background-color: var(--disabled-bg-color);\n",
              "    fill: var(--disabled-fill-color);\n",
              "    box-shadow: none;\n",
              "  }\n",
              "\n",
              "  .colab-df-spinner {\n",
              "    border: 2px solid var(--fill-color);\n",
              "    border-color: transparent;\n",
              "    border-bottom-color: var(--fill-color);\n",
              "    animation:\n",
              "      spin 1s steps(1) infinite;\n",
              "  }\n",
              "\n",
              "  @keyframes spin {\n",
              "    0% {\n",
              "      border-color: transparent;\n",
              "      border-bottom-color: var(--fill-color);\n",
              "      border-left-color: var(--fill-color);\n",
              "    }\n",
              "    20% {\n",
              "      border-color: transparent;\n",
              "      border-left-color: var(--fill-color);\n",
              "      border-top-color: var(--fill-color);\n",
              "    }\n",
              "    30% {\n",
              "      border-color: transparent;\n",
              "      border-left-color: var(--fill-color);\n",
              "      border-top-color: var(--fill-color);\n",
              "      border-right-color: var(--fill-color);\n",
              "    }\n",
              "    40% {\n",
              "      border-color: transparent;\n",
              "      border-right-color: var(--fill-color);\n",
              "      border-top-color: var(--fill-color);\n",
              "    }\n",
              "    60% {\n",
              "      border-color: transparent;\n",
              "      border-right-color: var(--fill-color);\n",
              "    }\n",
              "    80% {\n",
              "      border-color: transparent;\n",
              "      border-right-color: var(--fill-color);\n",
              "      border-bottom-color: var(--fill-color);\n",
              "    }\n",
              "    90% {\n",
              "      border-color: transparent;\n",
              "      border-bottom-color: var(--fill-color);\n",
              "    }\n",
              "  }\n",
              "</style>\n",
              "\n",
              "  <script>\n",
              "    async function quickchart(key) {\n",
              "      const quickchartButtonEl =\n",
              "        document.querySelector('#' + key + ' button');\n",
              "      quickchartButtonEl.disabled = true;  // To prevent multiple clicks.\n",
              "      quickchartButtonEl.classList.add('colab-df-spinner');\n",
              "      try {\n",
              "        const charts = await google.colab.kernel.invokeFunction(\n",
              "            'suggestCharts', [key], {});\n",
              "      } catch (error) {\n",
              "        console.error('Error during call to suggestCharts:', error);\n",
              "      }\n",
              "      quickchartButtonEl.classList.remove('colab-df-spinner');\n",
              "      quickchartButtonEl.classList.add('colab-df-quickchart-complete');\n",
              "    }\n",
              "    (() => {\n",
              "      let quickchartButtonEl =\n",
              "        document.querySelector('#df-13826642-13e7-4de7-ac2e-5317ef69a0e7 button');\n",
              "      quickchartButtonEl.style.display =\n",
              "        google.colab.kernel.accessAllowed ? 'block' : 'none';\n",
              "    })();\n",
              "  </script>\n",
              "</div>\n",
              "\n",
              "    </div>\n",
              "  </div>\n"
            ]
          },
          "metadata": {},
          "execution_count": 26
        }
      ]
    },
    {
      "cell_type": "markdown",
      "metadata": {
        "id": "zkVqSSzu2Ax8"
      },
      "source": [
        "## Split dataset for training and testing\n",
        "We will split our data into two subsets: a 50% subset will be used for training the model for prediction and the remaining 50% will be used for evaluating or testing its performance. The random state ensures reproducibility of the results."
      ]
    },
    {
      "cell_type": "markdown",
      "source": [
        "**Question 5:** Split your data to get x_train, x_test, y_train and y_test."
      ],
      "metadata": {
        "id": "HfMQ4DP0LahH"
      }
    },
    {
      "cell_type": "code",
      "source": [
        "data.columns"
      ],
      "metadata": {
        "colab": {
          "base_uri": "https://localhost:8080/"
        },
        "id": "XNm4vsvjdzv1",
        "outputId": "da2eb685-9cb5-4405-a6cb-7c8953f6b77d"
      },
      "execution_count": 27,
      "outputs": [
        {
          "output_type": "execute_result",
          "data": {
            "text/plain": [
              "Index(['review', 'sentiment', 'clean_review'], dtype='object')"
            ]
          },
          "metadata": {},
          "execution_count": 27
        }
      ]
    },
    {
      "cell_type": "code",
      "metadata": {
        "id": "QPHlwVS71brN",
        "colab": {
          "base_uri": "https://localhost:8080/"
        },
        "outputId": "beabfefd-61ba-4346-b178-de9ffafaf5b3"
      },
      "source": [
        "from sklearn.model_selection import train_test_split\n",
        "\n",
        "X = data['clean_review'].values\n",
        "y = data['sentiment'].values\n",
        "\n",
        "# Split data into 50% training & 50% test\n",
        "# Use a random state of 42 for example to ensure having the same split\n",
        "\n",
        "\n",
        "#Splitting size\n",
        "s = 0.5\n",
        "\n",
        "#Ransom state\n",
        "r = 101\n",
        "\n",
        "\n",
        "x_train, x_test, y_train, y_test = train_test_split(X, y, test_size=s, random_state=r)\n",
        "\n",
        "print(x_train.shape, y_train.shape)\n",
        "print(x_test.shape, y_test.shape)"
      ],
      "execution_count": 30,
      "outputs": [
        {
          "output_type": "stream",
          "name": "stdout",
          "text": [
            "(25000,) (25000,)\n",
            "(25000,) (25000,)\n"
          ]
        }
      ]
    },
    {
      "cell_type": "code",
      "source": [
        "#Let's see x_train\n",
        "x_train"
      ],
      "metadata": {
        "colab": {
          "base_uri": "https://localhost:8080/"
        },
        "id": "wDvCM8vtezH9",
        "outputId": "82c780f5-b979-4bdd-e1b1-0c0e17a86df6"
      },
      "execution_count": 31,
      "outputs": [
        {
          "output_type": "execute_result",
          "data": {
            "text/plain": [
              "array(['afewbuddiesandmyselfhavethestrangehobbyofseekingoutreallyhorrendousandutterlyobscureforagoodreasonhorrorflicksandthensubsequentlywatchingthemundertheinfluenceofmindbroadeningconsumergoodslikealcoholandorsoftdrugssurelyalotofpeopledothisbuttheywatchmovieslikethegodzillaremakewhereaswetormentoureyesandbrainswithstufflikethelochnesshorrorandeurekathisisaprototypicbadmovieweopentraditionallywithbagpipesmusicduringtheopeningcreditsthisisofcoursetoemphasizeextratousdumbviewersthatthestoryissupposedtotakeplaceinthescottishhighlightsandnotindirectorlarrybuchanansbirthplacetexasforthatexactsamereasonthecastmembersareseeminglyalsoinstructedtooveracttremendouslyandtalkwithtalkwithatrociousaccentstheamericanmarinebiologistprofgeorgesandersonarrivesinlochnesswithsomebrandnewandhighlysophisticatedsonarequipmenttotrackdownthewhereaboutsofthelegendarymonsterinthelakemeanwhiletherearemanyotherpartieshangingaroundthelakelikeagroupofkidsonasciencecampwhataboringwaytospendyourvacationretiredarmygeneralslookingforaluftwaffeplanethatcrashedinthelakeduringwwiiandabunchofthievesandfailedscientiststhataresteelingthemonsterseggyouwouldthinkthatthesenumeroussubplotsbringsomediversityandexcitementintheplotbutunfortunatelythatsnotthecaselochnesshorrorisanoverallboringflickwithonlyacoupleofnoteworthyelementsthemonsteritselfforexampleisadelightfullycheesycreationwithcuteeyesandasmokybreathhisteethalsoglowinthedarkwhichisquiteusefulwhenyouredumbenoughtogooutonaboatrideinthemiddleofthenightneartheendofthefilmtheremainingcastmembersweremoreinterestedinthelostluftwaffeplanethaninthemonstersoitwasabouttimetowrapituplochnesshorroriscarefullyrecommendedincaseyoureafanofbadbmoviesfromthesbutbeadvisedthatitcontainsanoverloadofsenselessdialogsandabizarrelyrushedendingthatmakesitlookasifthefilmsuddenlyranoutofbudget',\n",
              "       'althoughimnottoomuchofareligiouspersonistillhadrelativelyhighhopesforthismovieasitdoeshavetheamazingstevecarrellanditsprequelbrucealmightywasactuallyacreativeandcleverchristianthemedcomedyhoweverevanalmightycomesnowherenearthisoriginalityandfreshnessthattheoriginalhasandcantdecidewhetheritsacomedyorasentimentalmovieaboutfaithandfamilyvaluesifithadchosenoneclearpathofwhichofthesethemestofocusonitcouldhaveliveduptoitspotentialbutinsteadtheresultofmixingthetwoisafilmthathasaveryflatanddrysenseofhumorcheesydialogueandmotifsthatattempttogivethemovieprofunditybutinsteadpracticallyinsultstheintelligenceoftheaudienceandalsoaveryconfusedandcloudedpresentationofthemoviesopaquemessageitwasveryobviousthatevanalmightywasverypoorlywrittentherearenumerousplotholesandelementsinthemoviethatmakeabsolutelynosenseforexamplealthoughalargevarietyofexoticanimalsfromallovertheplanetswarmtoevanashebuildsthearkfortheirsalvationfromthefloodistheirinclusionreallynecessarywhentheonlyfloodthathappensinthemovieisdowntownwashingtondcandasuburbanneighborhoodmeaningtheyareatnoriskofbeingwipedoutthefilmmakersitseemslackedtheoriginalitytomodernizethebiblestorywhatsoeverandinsteadjusthadittakeplaceinapresenttimewithoutchanginganythingtotheplotleavingmanyelementsthatjustdontaddupsuchasthisandmakeitobviousoftheidioticmotifsandwritingwithinthemovieoverallthisworkistragicinthattheactingtalentofstevecarrellandwandasykesisntexhibitedbecauseoftheblandcharacterstheyportrayandthatitwassopoorlywrittenthatitskewsandcloutsmanyofthefilmsattemptedthemesandmakesamockeryofthefirstfilmfinallyevanalmightyalsoisaninsulttothebrilliantactorsinitandanyhalfwayintelligentmoviegoerinthatitfailsbothofthemmiser',\n",
              "       'thismovieisnotaboutentertainmentornotevenamovieyouwanttoseetopassthetimethismovieisagenuinelyadisplayoftruelovethatcanonlycomefromgodonecannothelpbutbetoucheddeeplybylookingatthismoviewehaveseveraldimensionsoflovethatcontributestothevalueofthismoviethereisthedivineloveofgodthatisbeautifullyportrayedgodslovetranscendstheheartandmindandenduresandiseternalthereistheloveinamarriagewhilethemaincharactergrappleswithhiswifesdiseaseherealizesthroughgodslovethatheloveshiswifemorethanhecouldeverimagineheknowsthatheandhiswifeareoneandcanneverbeseparatedfinallyyouhavetheloveofchildandparentthekidsinthefamilycometogetherandrealizethatnothingelsemattersexceptthatloveconquersfeardearfriendsloveisnotloveunlessitcomesfromgodbecausegodisloveandlovecomesfromgodtalktosomeoneandletthemknowyoulovethemlovedoesnogoodunlessitisgiventoanotheripraythismoviecaninspireandchangethelivesofeveryonewhoseesitamen',\n",
              "       ...,\n",
              "       'imperiumneroisthesecondmovieoftheseriesofsixproductionsnamedimperiumihavealreadyunfavorablycommentedthefirstoneimperiumaugustusthissecondtvmovieproducedandbroadcastlastweekendbytheitalianstateownednetworkhasthesamedefectsinadditioncontainsaconsiderablenumberofhistoricalerrorssomeexamplesneroisachildandagrippinacallshimneroneroatthattimeisnamewasclaudiushewasnamedneroafterhisadoptionnerodidnotmeetactewhenhewasyoungasinthemoviebutafterhismarriagewithoctaviaandhisnominationtoemperorwhenbecomingemperorhissonswherenotadultsbritannicusisonemontholdandoctaviaoneyearoldandmanymanymoreifyouarefondofancientromanhistoryyoucanfindyourselvesotherexamplesimperiumserieswillcontinuewithfourmoremoviestitusmarcusaureliuscostantinusandthefalloftheromanempirefin',\n",
              "       'shoppingsunnyskiesbeachesboardingschoolforrichteenagersandperfectlyhappyendingswelcometothelifeofzoeybrooksandherfriendszoeybrooksisportrayedbyjamielynnspearstheselfproclaimedactresswhogotherclaimtofamebybeingtheyoungersisteroftheinternationalpopstarbritneyspearswithherlovelyblondwiginthefirstseasonandanattemptathidinghermonotonouscountryaccentitsconfirmedthatnickelodeonhasindeedgonetothedogswithnepotismwhenkristinherreratheactresswhoportrayeddanacruzinthefirstseasonlefttheshowallhopevanquishedasshewastheonlydecentactressthefemalecastingisacompletedisgracebutthemalecastinghaspotentialforateenagemediaiftheycontinuetopursuejamielynnspearsasthepictureofperfectionverymanypeoplewillhavetolowertheirstandardswithhopetheywillsoonfindthatyoucantmakeacareeroutofnothingjamielynnspearsisuselessforactingsingingandanythingelsesheattemptsforthatdownwardspiralshecallsacareerthereisnowonderingwhysheisaselfproclaimedactresscriticswouldmostdefinitelyproclaimherassomethingotherthanthat',\n",
              "       'whydoesthismoviefallwellbelowstandardsultimatelytheanswerliesinthepoorhumourlessscriptaslimaveragelookingtravoltalookingratherdapperinblackimustsayevenwithahugemulletandgrossbothactverywellastwoyoungishslickdressedbutneverthelessdimwittednewyorkerseagertoopentheirownnightclubotherthanthattherestofthefilmisjustboringtowatchitissodullthatitsreallynotworthknowingwhathappensinthefilmsclimaxonanylevelkellyprestonobviouslyexudessexappealandthesexuallychargeddancewithherhusbandtobetravoltaisoneofthefilmsfewpleasurescharlesmartinsmithisquitefuntowatchasstrugglingkgbhonchobobsmithpersonallyithinkthemoviewouldhavebeenbetteriftheplotwasalteredalittlesothatthesettingsdidnotchangefromnytoindianspringsnebraskawhichisintheformersovietunionyoullunderstandifyouseethemovieapparentlythismoviewasfilmedinreadyforareleaseiguessparamountstalledonreleasingthemovieuntiljanuarybecauseoftheunbelievableplotitwasreportedtheydeemeditunreleasableneverthelessthisfilmgarneredalittleoveranembarrassinginrevenueasitwasreleasedonlybrieflyinplacesliketexasandcoloradobeforeheadingstraighttovideothisistestamenttotheoverallbadqualityofthismovi'],\n",
              "      dtype=object)"
            ]
          },
          "metadata": {},
          "execution_count": 31
        }
      ]
    },
    {
      "cell_type": "code",
      "source": [
        "#Let's see x_test\n",
        "x_test"
      ],
      "metadata": {
        "colab": {
          "base_uri": "https://localhost:8080/"
        },
        "id": "ziwtDfwZe4uv",
        "outputId": "8f566637-fd41-4d94-9bda-c5104c1980a0"
      },
      "execution_count": 32,
      "outputs": [
        {
          "output_type": "execute_result",
          "data": {
            "text/plain": [
              "array(['igenerallywontreviewmoviesihaventseeninawhilesoillpoptheminorrentthemtogiveafullandfreshtakeonthefilminthecaseofasoundofthunderirememberedmyvowofneverseeingthismovieeveragainsoilljustgoonmemoryinfactihaventthoughtofhowbadlymadethismoviewasuntilireadsomeoneelsesreviewandrememberedtheexperienceihadbackinwheniactuallysawthisinthetheatermymoviebuddyforcedmetoseeitthoughiwasntinterestedandwowlateroniforcedhimtoseebasicinstinctinthetheaterremindinghimhemademeseethiscrapsoiguessthatmadeusevenicertainlyhadmyshareofdeeplaughsatthemoviesexpenseofcoursewhichdidntmakehimhappyashereallywantedtoseeitthetimetravelbutterflyeffectfilmhadsomanybadgraphicstheloudestchucklesfrommewaswhenevertheyshowedthedinosaurgodilovedseeingthatdinoandthemactuallybeingscaredofititwashilariousorjustsimplybenkingsleyitsgreatkingsleycanremindusonhowhumanactorscanbegoingfromgandhiandschindlerslisttouhthisevenamerylstreepcandoashedevilfromtimetotimesotheyreforgivenformonthsipulledanmstkwithmybuddyconsistentlyreferencingthismovietoanylowrentscififilmorkingsleyflickyesthemoviewouldbeagreatmovietoseedrunkorotherwiseinebriatedhorribleoverthetopactingspecialfxthateventhenintendowouldturnawayandridiculousplottwiststhebiggestdisappointmentwasthattherazziesdidntevennominatethisfilmforanyaward',\n",
              "       'giventhisfilmsincrediblereviewsiwasexpectingsomethingtrulyexceptionalitcertainlystartswellwithwittyandsharpdialogueandafinecastinplaceaseriesofrobertaltmanstyleinterwovenstoriesreeltheviewerinwithsomecompellingscenesifounditgrippingentertainmentrightthroughtothesecondhalfofthefilmwhensadlyitcollapseslikeapackofcardsaseriesofludicrouscoincidencesandrightonmessagesstackupuntilimleftdeeplydisappointedandwonderingwhatallthefussisaboutpaulhaggishastackledthesubjectofraceinlaandthataloneseemstohaveelevatedthismovietoanewlevelofinterestgiventhatmostoftheacademyvotersliveinlaandhaveexperiencedracismtosomeextentthisfilmissuretohaveanimpactonthemthatmeanstheoscarforbestpicturewillgototheracemovieorthegaymovieletshopeitisthelatterbecausebrokebackmountainisabonafidemasterpiecethatdeservesrecognit',\n",
              "       'iwonderhowmuchthismovieactuallyhasgottodowiththemoviebachelorpartystarringtomhanksisthismovieevenanofficialsequelthismovieislackingineverydepartmentandyoureobviouslybetteroffnotwatchingitbrbrforacomedythismoviesimplyisntgoodorfunnyenoughitreliesmostlyonthecharacterstheirstereotypicalassessmentsratherthenthemovieactuallyfeaturessomegoodoriginalandfunnymomentsbrbrofcoursetherealsoisverylittlestorypresentandthemovienudebreastthanscriptpagesyoujustkeepwaitingforthingstofinallystartoffthereisamainplotlineinitsomewherebutthatoneissoterriblyunoriginalandgetsexecutedsopoorlyinthemoviethatitfeelsmoreasifitssomethingnonexistentiguessthereevenisamessageandmoralstoryinitsomewherebutthisagainissoterriblyunoriginalandpoorlydoneinthemoviethatitsimplydoesnotworkoutbrbritsbasicallyatypicalteenagecomedywithlotsofsexjokesandnudityonlywithouttheteenagemaincharacterswhichmakesthestoryallthemoresadandtastelessthemoviemakessomereallywrongjokesthataremisplacedforanytypeofmoviebrbriregreteverwatchingthisbrbr',\n",
              "       ...,\n",
              "       'tobefairididntseealotofthisshowprobablybecauseitwasntasgoodastheoriginalmashbutiseemtorecallthemmovingitaroundontheweeklyschedulesomeshowsjustarentworththetroubleoffollowingaroundeveryweekbutireallydidtryatfirstsoitwasntallbadmaybeijustkeptexpectingittoimprovebuticantgivethisshowainallhonestyicantgiveitanymorethanaeitherbrbritwasntmashimnotgoingtotypethosestupidseverytimeanditwastryingtobemashwithoutputtingforthanyeffortlikeitwouldjustmagicallyhappenwellguesswhatnomagicthebesticandohereistocompareittoothershowsbrbrtrapperjohnmdwasamuchbettershowbyfarhowevertheyshouldhavecalleditbjhunnicutmdbecausepernellrobertslookedexactlylikeanolderbjbutnothingatallliketrapperjohnkeepeverythingelsethesamejustchangehisnameandthenameoftheshowprestoaftermashwasnttheonlysequeltocompletelybombanddishonortheoriginalarchiebunkersplacewasalamefollowuptoallinthefamilyithadnoheartnoconflictnodepthallofthethingsthatmadeallinthefamilysomemorablelikewisemashwasfunnybecausethedoctorswerereactingtotheimpossibleabsurdityofwarremovethewarandyouremovethedriveforofthehumorpottercantyellatklingerforwearingadressbecauseklingerisntwearingadressbecausehesnottryingtogetkickedoutofthearmybecausehesalreadyoutofthearmybecausethewarisoverbreatheallofthejokesbecameforcedbecausetherewasnomotivationforanythingtheleastmotivatedwastheviewertostayaroundandwatchtheshowbrbrandfromwhatirememberthewholeshowseemedtobepotterklingerandmulcahyjuststandingthereunnaturallyfacingtheaudiencelikeatrioofvaudevilleperformersitwasreminiscentofgoodtimeswheretheyspentoftheshowstandingbehindthatcouchandtalkingtotheaudiencetryingtomakeitlookliketheywerehavingnaturalconversationtheywerentanditfeltevenlessnaturalonaftermashbrbranotherrandomtidbitirecallisthatthepeoplewhomademashnevergotanyroyaltiesfromthespinoffthestudiousedtheabsurdexcusethataftermashwasreallyaspinoffofthemoviemashwhichtheyownedandnotthetvseriesnicetrybutmulcahywastheonlyoneofthethreeinthemovieandhewasneverdeafiguessstudioexecswilldoanythingforabuckanythingotherthanmakeaworthwhilesequelthati',\n",
              "       'ifiaccidentallystumbledacrossthisscriptintextualformiwouldreaditandmaybelaughiwouldnothoweverlaughatthepointsinthefilmwherethedirectorwouldseemtowantmetolaughalthoughiamstillnotaltogethersurewheretheseareidontcareifthisiswoodyallenthiswritercannotwritedialogueoratleasthecannotknowinglywritedialoguethendrawperformancesfromactorscapableofdrawinglaughterfromeventhemostticklishofclownsforexamplebrbrparaphraseimanarthistorianimlookingtogetajobinanartgallerybrbroksoitstatesthefactbuthonestlydoyouknowofanyarthistorianswhowouldsaythathowwouldyouanswerbrbrreallyanartgallerywhowouldvethoughtitbrbrtheentirescriptislitteredwiththekindoftawdryquasiintellectualismthatiwouldnothaveexpectedfromsucharespectedcharacterwriteriadmitthatihavenoknowledgeofallensotherworkandjudgingbythisoneidontwanttostartlearningthecharactersareloathsomewithoutexceptionanattempttoillustratethatweallsufferfromthehumanconditionorreallyreallypoorcharacterwritingyoubethejudg',\n",
              "       'deargodwheredoibeginthisisbarnonethebestmovieiveeverseenthecameraanglesaregreatbutinmyopiniontheactingwasthebestwhythescriptwritersforthismoviearentwritingbigbudgetfilmsiwillneverunderstandanotheristhecastitisgreatthisisthebesttedraimifilmoutthereforsureiknowsomeofyououtthereareprobablythinkingnowayhehasplentybetterbutnoyourwrongraptorislandisaworkofartihopeitshouldhavegotenbestmovieoftheyearinsteadofthatcrappymoviecrashwithabunchofnonamesandnoraptorsibelievethismovieistrulythemostwonderfulthingev'],\n",
              "      dtype=object)"
            ]
          },
          "metadata": {},
          "execution_count": 32
        }
      ]
    },
    {
      "cell_type": "code",
      "source": [
        "#Let's see y_train\n",
        "y_train"
      ],
      "metadata": {
        "colab": {
          "base_uri": "https://localhost:8080/"
        },
        "id": "58-DYMk6e8vO",
        "outputId": "1d5d249c-cc8f-4331-b311-75233317b4d0"
      },
      "execution_count": 33,
      "outputs": [
        {
          "output_type": "execute_result",
          "data": {
            "text/plain": [
              "array([0, 0, 1, ..., 0, 0, 0])"
            ]
          },
          "metadata": {},
          "execution_count": 33
        }
      ]
    },
    {
      "cell_type": "code",
      "source": [
        "#Let's see y_test\n",
        "y_test"
      ],
      "metadata": {
        "colab": {
          "base_uri": "https://localhost:8080/"
        },
        "id": "Yw93LPpQe_P5",
        "outputId": "5657e50e-7f1d-43cb-a814-1fee29aaffbb"
      },
      "execution_count": 34,
      "outputs": [
        {
          "output_type": "execute_result",
          "data": {
            "text/plain": [
              "array([0, 0, 0, ..., 0, 0, 1])"
            ]
          },
          "metadata": {},
          "execution_count": 34
        }
      ]
    },
    {
      "cell_type": "markdown",
      "metadata": {
        "id": "Wz23g0nD2nhN"
      },
      "source": [
        "## Feature extraction with Bag of Words\n"
      ]
    },
    {
      "cell_type": "markdown",
      "source": [
        "**Question 6:**  In this section, apply the Bag of Words method to learn the vocabulary of your text and with it transform your training input data."
      ],
      "metadata": {
        "id": "FGHs66FILldh"
      }
    },
    {
      "cell_type": "code",
      "metadata": {
        "id": "0_B0vrn-2sON",
        "colab": {
          "base_uri": "https://localhost:8080/"
        },
        "outputId": "8c7b044b-bc62-4086-fad5-2c3d571bd8d8"
      },
      "source": [
        "from sklearn.feature_extraction.text import CountVectorizer\n",
        "\n",
        "# define a CountVectorizer (with binary=True and max_features=10000)\n",
        "vectorizer = CountVectorizer(binary = True, max_features = 10000)\n",
        "\n",
        "# learn the vocabulary of all tokens in our training dataset\n",
        "vectorizer.fit(x_train) #We only fit the training data not the test data\n",
        "\n",
        "# transform x_train to bag of words\n",
        "x_train_bow = vectorizer.transform(x_train)\n",
        "x_test_bow = vectorizer.transform(x_test)\n",
        "\n",
        "print(x_train_bow.shape, y_train.shape)\n",
        "print(x_test_bow.shape, y_test.shape)"
      ],
      "execution_count": 35,
      "outputs": [
        {
          "output_type": "stream",
          "name": "stdout",
          "text": [
            "(25000, 10000) (25000,)\n",
            "(25000, 10000) (25000,)\n"
          ]
        }
      ]
    },
    {
      "cell_type": "markdown",
      "metadata": {
        "id": "UtLaJfuw4060"
      },
      "source": [
        "## Classification\n",
        "\n",
        "**Question 7:** Your data is ready for classification. For this task use [LogisticRegression](https://scikit-learn.org/stable/modules/generated/sklearn.linear_model.LogisticRegression.html)"
      ]
    },
    {
      "cell_type": "code",
      "metadata": {
        "id": "9mS51YGO4hfv",
        "colab": {
          "base_uri": "https://localhost:8080/"
        },
        "outputId": "26d8ad9b-ccea-462c-e5fa-1831b0aef210"
      },
      "source": [
        "from sklearn.linear_model import LogisticRegression\n",
        "\n",
        "# define the LogisticRegression classifier\n",
        "model = LogisticRegression()\n",
        "\n",
        "# train the classifier on the training data\n",
        "model.fit(x_train_bow, y_train)\n",
        "\n",
        "# get the mean accuracy on the training data\n",
        "acc_train = model.score(x_train_bow, y_train)\n",
        "\n",
        "print('Training Accuracy:', acc_train)\n",
        "#We can see that, the accuracy is not that good"
      ],
      "execution_count": 36,
      "outputs": [
        {
          "output_type": "stream",
          "name": "stdout",
          "text": [
            "Training Accuracy: 0.69796\n"
          ]
        }
      ]
    },
    {
      "cell_type": "markdown",
      "metadata": {
        "id": "2Csw7GEm76E5"
      },
      "source": [
        "**Question 8:**  Evaluating the performance of your model through its accuracy score"
      ]
    },
    {
      "cell_type": "code",
      "metadata": {
        "id": "sBJnyoqO5NyE",
        "colab": {
          "base_uri": "https://localhost:8080/"
        },
        "outputId": "e2d74209-2506-426e-bd1e-3b7162ca4bac"
      },
      "source": [
        "# Evaluate model with test data\n",
        "acc_test = model.score(x_test_bow, y_test)\n",
        "print('Test Accuracy:', acc_test)\n",
        "#We can see that, the accuracy is not that good and even badder than the training score"
      ],
      "execution_count": 37,
      "outputs": [
        {
          "output_type": "stream",
          "name": "stdout",
          "text": [
            "Test Accuracy: 0.49816\n"
          ]
        }
      ]
    },
    {
      "cell_type": "markdown",
      "metadata": {
        "id": "Yh5927-d6Gq4"
      },
      "source": [
        "## Bonus: Let's use the model to predict!\n",
        "To do so, let's create a predict function which takes as argument your model and the bag of words vectorizer together with a review on which it would predict the sentiment. This review should be cleaned with the `clean_review` function we built, transformed by bag of words and then used for prediction with `model.predict()`."
      ]
    },
    {
      "cell_type": "code",
      "metadata": {
        "id": "u6kxkZ5m55Ii"
      },
      "source": [
        "# define predict function\n",
        "def predict(model, vectorizer, review):\n",
        "  #Cleaning the review with the function\n",
        "  review = clean_review(review)\n",
        "\n",
        "  #Creating the review bow\n",
        "  review_bow = vectorizer.transform([review])\n",
        "\n",
        "  #Returning the model to predict\n",
        "  return model.predict(review_bow)[0]"
      ],
      "execution_count": 45,
      "outputs": []
    },
    {
      "cell_type": "markdown",
      "metadata": {
        "id": "7VrNunL18l4a"
      },
      "source": [
        "And let's try it out on an example"
      ]
    },
    {
      "cell_type": "code",
      "metadata": {
        "id": "8z6WCl916flD",
        "colab": {
          "base_uri": "https://localhost:8080/"
        },
        "outputId": "c228b460-bd38-4e9e-fc16-0fb2887e643e"
      },
      "source": [
        "review = 'The movie was great!'\n",
        "predict(model, vectorizer, review)"
      ],
      "execution_count": 46,
      "outputs": [
        {
          "output_type": "execute_result",
          "data": {
            "text/plain": [
              "0"
            ]
          },
          "metadata": {},
          "execution_count": 46
        }
      ]
    }
  ]
}